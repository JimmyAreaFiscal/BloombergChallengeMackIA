{
 "cells": [
  {
   "cell_type": "markdown",
   "metadata": {},
   "source": [
    "---\n",
    "# Relatório 02 - Análise de Ativos por Setores - Bloomberg Challenge\n",
    "---\n",
    "\n",
    "O objetivo desse relatório é identificar ativos a serem analisados e investidos ao longo do Bloomberg Challenge de Outubro/2024, considerando os setores escolhidos pela análise setorial (Relatório 01)"
   ]
  },
  {
   "cell_type": "markdown",
   "metadata": {},
   "source": [
    "## 1. Importação de bibliotecas e configuração"
   ]
  },
  {
   "cell_type": "markdown",
   "metadata": {},
   "source": [
    "### 1.1. Importação de Bibliotecas e Configurações de Data"
   ]
  },
  {
   "cell_type": "code",
   "execution_count": 1,
   "metadata": {},
   "outputs": [],
   "source": [
    "# Importação de dados\n",
    "import yfinance as yf \n",
    "\n",
    "# Análise de dados\n",
    "import pandas as pd \n",
    "\n",
    "# Visualização\n",
    "import plotly.graph_objects as go \n",
    "import plotly.express as px\n",
    "\n",
    "\n",
    "# Outros\n",
    "import os \n",
    "from datetime import datetime as dt \n",
    "\n",
    "data_inicial = dt(2020, 1, 1)\n",
    "data_final = dt.today()"
   ]
  },
  {
   "cell_type": "markdown",
   "metadata": {},
   "source": [
    "### 1.2. Importação de lista de ativos"
   ]
  },
  {
   "cell_type": "code",
   "execution_count": 2,
   "metadata": {},
   "outputs": [],
   "source": [
    "dir = 'data/ativos_selecionados'\n",
    "\n",
    "ativos_selecionados = pd.DataFrame()\n",
    "for arq in os.listdir(dir):\n",
    "    if arq.endswith('.csv'):\n",
    "        temp = pd.read_csv(dir + '/' + arq)\n",
    "        ativos_selecionados = pd.concat([ativos_selecionados, temp])"
   ]
  },
  {
   "cell_type": "code",
   "execution_count": 3,
   "metadata": {},
   "outputs": [
    {
     "data": {
      "text/plain": [
       "(354, 12)"
      ]
     },
     "execution_count": 3,
     "metadata": {},
     "output_type": "execute_result"
    }
   ],
   "source": [
    "ativos_selecionados.shape"
   ]
  },
  {
   "cell_type": "code",
   "execution_count": 4,
   "metadata": {},
   "outputs": [
    {
     "data": {
      "text/html": [
       "<div>\n",
       "<style scoped>\n",
       "    .dataframe tbody tr th:only-of-type {\n",
       "        vertical-align: middle;\n",
       "    }\n",
       "\n",
       "    .dataframe tbody tr th {\n",
       "        vertical-align: top;\n",
       "    }\n",
       "\n",
       "    .dataframe thead th {\n",
       "        text-align: right;\n",
       "    }\n",
       "</style>\n",
       "<table border=\"1\" class=\"dataframe\">\n",
       "  <thead>\n",
       "    <tr style=\"text-align: right;\">\n",
       "      <th></th>\n",
       "      <th>Ticker</th>\n",
       "      <th>Nome</th>\n",
       "      <th>Ponderação</th>\n",
       "      <th>Ações</th>\n",
       "      <th>Preço</th>\n",
       "      <th>MainTicker</th>\n",
       "      <th>YFTicker</th>\n",
       "      <th>SetorEconomico</th>\n",
       "      <th>Industria</th>\n",
       "      <th>NomeCompletoParaAuditoria</th>\n",
       "      <th>Pais</th>\n",
       "      <th>Moeda</th>\n",
       "    </tr>\n",
       "  </thead>\n",
       "  <tbody>\n",
       "    <tr>\n",
       "      <th>0</th>\n",
       "      <td>PROT NO Equity</td>\n",
       "      <td>Protector Forsikring ASA</td>\n",
       "      <td>0.001278</td>\n",
       "      <td>50.451</td>\n",
       "      <td>237.50</td>\n",
       "      <td>PROT</td>\n",
       "      <td>PROT</td>\n",
       "      <td>Healthcare</td>\n",
       "      <td>Biotechnology</td>\n",
       "      <td>PROTEONOMIX INC</td>\n",
       "      <td>United States</td>\n",
       "      <td>USD</td>\n",
       "    </tr>\n",
       "    <tr>\n",
       "      <th>1</th>\n",
       "      <td>ALAB UW Equity</td>\n",
       "      <td>Astera Labs Inc</td>\n",
       "      <td>0.001276</td>\n",
       "      <td>21.729</td>\n",
       "      <td>52.10</td>\n",
       "      <td>ALAB</td>\n",
       "      <td>ALAB</td>\n",
       "      <td>Technology</td>\n",
       "      <td>Semiconductors</td>\n",
       "      <td>Astera Labs, Inc.</td>\n",
       "      <td>United States</td>\n",
       "      <td>USD</td>\n",
       "    </tr>\n",
       "    <tr>\n",
       "      <th>2</th>\n",
       "      <td>MXL UW Equity</td>\n",
       "      <td>MaxLinear Inc</td>\n",
       "      <td>0.001275</td>\n",
       "      <td>76.115</td>\n",
       "      <td>14.86</td>\n",
       "      <td>MXL</td>\n",
       "      <td>MXL</td>\n",
       "      <td>Technology</td>\n",
       "      <td>Semiconductors</td>\n",
       "      <td>MaxLinear, Inc</td>\n",
       "      <td>United States</td>\n",
       "      <td>USD</td>\n",
       "    </tr>\n",
       "    <tr>\n",
       "      <th>3</th>\n",
       "      <td>HRMY UQ Equity</td>\n",
       "      <td>Harmony Biosciences Holdings Inc</td>\n",
       "      <td>0.001256</td>\n",
       "      <td>29.877</td>\n",
       "      <td>37.29</td>\n",
       "      <td>HRMY</td>\n",
       "      <td>HRMY</td>\n",
       "      <td>Healthcare</td>\n",
       "      <td>Biotechnology</td>\n",
       "      <td>Harmony Biosciences Holdings, I</td>\n",
       "      <td>United States</td>\n",
       "      <td>USD</td>\n",
       "    </tr>\n",
       "    <tr>\n",
       "      <th>4</th>\n",
       "      <td>TVTX UQ Equity</td>\n",
       "      <td>Travere Therapeutics Inc</td>\n",
       "      <td>0.001227</td>\n",
       "      <td>74.851</td>\n",
       "      <td>14.54</td>\n",
       "      <td>TVTX</td>\n",
       "      <td>TVTX</td>\n",
       "      <td>Healthcare</td>\n",
       "      <td>Biotechnology</td>\n",
       "      <td>Travere Therapeutics, Inc.</td>\n",
       "      <td>United States</td>\n",
       "      <td>USD</td>\n",
       "    </tr>\n",
       "  </tbody>\n",
       "</table>\n",
       "</div>"
      ],
      "text/plain": [
       "           Ticker                              Nome  Ponderação   Ações  \\\n",
       "0  PROT NO Equity          Protector Forsikring ASA    0.001278  50.451   \n",
       "1  ALAB UW Equity                   Astera Labs Inc    0.001276  21.729   \n",
       "2   MXL UW Equity                     MaxLinear Inc    0.001275  76.115   \n",
       "3  HRMY UQ Equity  Harmony Biosciences Holdings Inc    0.001256  29.877   \n",
       "4  TVTX UQ Equity          Travere Therapeutics Inc    0.001227  74.851   \n",
       "\n",
       "    Preço MainTicker YFTicker SetorEconomico       Industria  \\\n",
       "0  237.50       PROT     PROT     Healthcare   Biotechnology   \n",
       "1   52.10       ALAB     ALAB     Technology  Semiconductors   \n",
       "2   14.86        MXL      MXL     Technology  Semiconductors   \n",
       "3   37.29       HRMY     HRMY     Healthcare   Biotechnology   \n",
       "4   14.54       TVTX     TVTX     Healthcare   Biotechnology   \n",
       "\n",
       "         NomeCompletoParaAuditoria           Pais Moeda  \n",
       "0                  PROTEONOMIX INC  United States   USD  \n",
       "1                Astera Labs, Inc.  United States   USD  \n",
       "2                   MaxLinear, Inc  United States   USD  \n",
       "3  Harmony Biosciences Holdings, I  United States   USD  \n",
       "4       Travere Therapeutics, Inc.  United States   USD  "
      ]
     },
     "execution_count": 4,
     "metadata": {},
     "output_type": "execute_result"
    }
   ],
   "source": [
    "ativos_selecionados.head()"
   ]
  },
  {
   "cell_type": "markdown",
   "metadata": {},
   "source": [
    "#### 1.2.1. Enriquecimento de dados de bolsa"
   ]
  },
  {
   "cell_type": "code",
   "execution_count": 5,
   "metadata": {},
   "outputs": [],
   "source": [
    "def add_market_information(company_name):\n",
    "    \"\"\" Função para adicionar o país em que o ativo é operado e a moeda utilizada\"\"\"\n",
    "    try:\n",
    "        ticker = yf.Ticker(company_name)\n",
    "    except:\n",
    "        print(company_name)\n",
    "        raise\n",
    "    market = ticker.info.get('exchange', 'N/A')\n",
    "\n",
    "    return market"
   ]
  },
  {
   "cell_type": "code",
   "execution_count": 6,
   "metadata": {},
   "outputs": [],
   "source": [
    "ativos_selecionados['Bolsa'] = ativos_selecionados['YFTicker'].apply(lambda x: pd.Series(add_market_information(x)))"
   ]
  },
  {
   "cell_type": "markdown",
   "metadata": {},
   "source": [
    "### 1.3. Importação de Dados OHLCV"
   ]
  },
  {
   "cell_type": "code",
   "execution_count": 7,
   "metadata": {},
   "outputs": [
    {
     "data": {
      "text/plain": [
       "295"
      ]
     },
     "execution_count": 7,
     "metadata": {},
     "output_type": "execute_result"
    }
   ],
   "source": [
    "dados_ohlcv = {}\n",
    "\n",
    "for ativo in ativos_selecionados['YFTicker'].unique():\n",
    "    temp = yf.download(ativo, start=data_inicial.strftime('%Y-%m-%d'), end=data_final.strftime('%Y-%m-%d'), progress=False)\n",
    "    if not temp.empty:\n",
    "        dados_ohlcv[ativo] = temp \n",
    "\n",
    "len(dados_ohlcv)"
   ]
  },
  {
   "cell_type": "markdown",
   "metadata": {},
   "source": [
    "Como visto acima, alguns ativos não foram importados e, por isso, não estarão sujeitos a essa análise."
   ]
  },
  {
   "cell_type": "markdown",
   "metadata": {},
   "source": [
    "## 2. Análise Exploratória dos Ativos"
   ]
  },
  {
   "cell_type": "code",
   "execution_count": 8,
   "metadata": {},
   "outputs": [
    {
     "data": {
      "text/plain": [
       "dict_keys(['PROT', 'ALAB', 'MXL', 'HRMY', 'TVTX', 'KPRX', 'ACT', 'AVIR', 'LBPH', 'INVA', 'YMAB', 'SGH', 'PRAX', 'WOLF', 'COGT', 'TGI', 'NMRA', 'ARQT', 'LMND', 'RLAY', 'SPR', 'AMSF', 'ZYME', 'SPRY', 'MRVI', 'HCI', 'QLGN', 'DAWN', 'IRON', 'CBUS', 'CDRE', 'ACET', 'AOSL', 'ELVN', 'DCO', 'VIR', 'PLMR', 'RCUS', 'ENTA', 'CGEM', 'PRA', 'ARVN', 'STC', 'RGR', 'IMNM', 'CKPT', 'SILO', 'VVX', 'DNTH', 'MDXG', 'ERAS', 'PLRX', 'BA', 'ANAB', 'OLMA', 'AURA', 'MRNA', 'GE', 'ETNB', 'SRRK', 'SWBI', 'ATRO', 'ORIC', 'FDMT', 'SMTC', 'IBRX', 'ACHR', 'LQDA', 'ADPT', 'ATXS', 'ARCT', 'TNGX', 'SANA', 'RGNX', 'AMBC', 'CVM', 'HXL', 'TYRA', 'HUMA', 'THG', 'NUVB', 'ACAD', 'SYRS', 'GLSI', 'SAGE', 'ZVRA', 'ALLO', 'SLRN', 'TPST', 'PRTC', 'JSPR', 'HGTY', 'DNA', 'CMRX', 'PTGX', 'NVTS', 'LXRX', 'FHTX', 'ROOT', 'INAB', 'IGMS', 'MBRX', 'GNPX', 'PRME', 'GYRE', 'AIP', 'SGMO', 'AEON', 'PWI.F', 'TXT', 'BMEA', 'EVEX', 'ORI', 'FGEN', 'TSHA', 'SAVA', 'TTNP', 'NVDA', 'AVGO', 'AMD', 'QCOM', 'TXN', 'RTX', 'PGR', 'LMT', 'VRTX', 'ADI', 'MMC', 'REGN', 'MU', 'RELI', 'INTC', 'AIR', 'TDG', 'GD', 'NOC', 'MRVL', 'AJG', 'HII', 'TRV', 'ALL', 'LHX', 'MPWR', 'HWM', 'MCHP', 'ALNY', 'HIG', 'ON', 'AXON', 'BRO', 'CINF', 'MKL', 'L', 'KROS', 'WRB', 'UTHR', 'FNF', 'SWKS', 'HEI', 'RGA', 'ERIE', 'BMRN', 'CW', 'INSM', 'TECH', 'PCVX', 'SRPT', 'RPRX', 'SVT', 'WWD', 'AIZ', 'INCY', 'ACST', 'AFG', 'KNSL', 'BWXT', 'QRVO', 'BOLT', 'CNA', 'EXEL', 'LSCC', 'HALO', 'RVMD', 'RLI', 'LUNR', 'VKTX', 'RYAN', 'MTG', 'CRUS', 'FAF', 'MTSI', 'CYTK', 'LPCN', 'VTYX', 'AVAV', 'RXRX', 'SIGI', 'BPMC', 'IONS', 'NKTR', 'RDN', 'RARE', 'A1JG34.SA', 'RNA', 'KRYS', 'ALDX', 'ADMA', 'GALT', 'RMBS', 'NEXI', 'MDGL', 'CRNX', 'NUVL', 'KMPR', 'CORT', 'SLAB', 'AXSM', 'ACLX', 'BHVN', 'BBIO', 'GFS', 'KTOS', 'POWI', 'AVXL', 'TGTX', 'BWIN', 'NMIH', 'FOLD', 'RYTM', 'APLS', 'DNLI', 'DYN', 'SITM', 'CRVL', 'SYNA', 'RKLB', 'PTCT', 'AGIO', 'DIOD', 'MCY', 'GERN', 'KYMR', 'ALGM', 'IDYA', 'CLDX', 'GRI', 'IPSC', 'IOVA', 'ARWR', 'VSH', 'CPRX', 'APGE', 'SWTX', 'ALRN', 'CCCC', 'VCEL', 'DRS', 'EWTX', 'SMMT', 'PMVP', 'CGON', 'NTLA', 'SXTP', 'VRPX', 'VERA', 'MRCY', 'BEAM', 'AKRO', 'IMVT', 'FTRE', 'MIRM', 'LGND', 'HMN', 'MNKD', 'PGEN', 'NVAX', 'BCRX', 'FRES', 'NRIX', 'SNDX', 'SKWD', 'ARDX', 'TRUP', 'VSEC', 'JANX', 'KURA', 'OCUL', 'VRDN', 'RCKT', 'SLNO', 'SYRE', 'XNCR', 'EIG', 'SAFT', 'TARS'])"
      ]
     },
     "execution_count": 8,
     "metadata": {},
     "output_type": "execute_result"
    }
   ],
   "source": [
    "dados_ohlcv.keys()"
   ]
  },
  {
   "cell_type": "markdown",
   "metadata": {},
   "source": [
    "### 2.1. Obtenção dos Volumes Médios Diários\n",
    "\n",
    "Um dos critérios possíveis é a escolha de ativos dos setores selecionados que possua volumes suficientes para a modelagem. \n",
    "Quanto mais operações, maior a chance de o mercado não ser afetado por um player único."
   ]
  },
  {
   "cell_type": "code",
   "execution_count": 9,
   "metadata": {},
   "outputs": [
    {
     "data": {
      "text/html": [
       "<div>\n",
       "<style scoped>\n",
       "    .dataframe tbody tr th:only-of-type {\n",
       "        vertical-align: middle;\n",
       "    }\n",
       "\n",
       "    .dataframe tbody tr th {\n",
       "        vertical-align: top;\n",
       "    }\n",
       "\n",
       "    .dataframe thead th {\n",
       "        text-align: right;\n",
       "    }\n",
       "</style>\n",
       "<table border=\"1\" class=\"dataframe\">\n",
       "  <thead>\n",
       "    <tr style=\"text-align: right;\">\n",
       "      <th></th>\n",
       "      <th>YFTicker</th>\n",
       "      <th>Média Volume</th>\n",
       "    </tr>\n",
       "  </thead>\n",
       "  <tbody>\n",
       "    <tr>\n",
       "      <th>0</th>\n",
       "      <td>NVDA</td>\n",
       "      <td>4.577784e+08</td>\n",
       "    </tr>\n",
       "    <tr>\n",
       "      <th>1</th>\n",
       "      <td>AMD</td>\n",
       "      <td>6.507724e+07</td>\n",
       "    </tr>\n",
       "    <tr>\n",
       "      <th>2</th>\n",
       "      <td>INTC</td>\n",
       "      <td>3.916639e+07</td>\n",
       "    </tr>\n",
       "    <tr>\n",
       "      <th>3</th>\n",
       "      <td>AVGO</td>\n",
       "      <td>2.465012e+07</td>\n",
       "    </tr>\n",
       "    <tr>\n",
       "      <th>4</th>\n",
       "      <td>MU</td>\n",
       "      <td>1.973214e+07</td>\n",
       "    </tr>\n",
       "    <tr>\n",
       "      <th>5</th>\n",
       "      <td>BA</td>\n",
       "      <td>1.287788e+07</td>\n",
       "    </tr>\n",
       "    <tr>\n",
       "      <th>6</th>\n",
       "      <td>GE</td>\n",
       "      <td>1.169423e+07</td>\n",
       "    </tr>\n",
       "    <tr>\n",
       "      <th>7</th>\n",
       "      <td>MRVL</td>\n",
       "      <td>1.047801e+07</td>\n",
       "    </tr>\n",
       "    <tr>\n",
       "      <th>8</th>\n",
       "      <td>MRNA</td>\n",
       "      <td>9.476764e+06</td>\n",
       "    </tr>\n",
       "    <tr>\n",
       "      <th>9</th>\n",
       "      <td>QCOM</td>\n",
       "      <td>9.137129e+06</td>\n",
       "    </tr>\n",
       "    <tr>\n",
       "      <th>10</th>\n",
       "      <td>ON</td>\n",
       "      <td>7.049471e+06</td>\n",
       "    </tr>\n",
       "    <tr>\n",
       "      <th>11</th>\n",
       "      <td>RTX</td>\n",
       "      <td>7.036302e+06</td>\n",
       "    </tr>\n",
       "    <tr>\n",
       "      <th>12</th>\n",
       "      <td>NVAX</td>\n",
       "      <td>6.970482e+06</td>\n",
       "    </tr>\n",
       "    <tr>\n",
       "      <th>13</th>\n",
       "      <td>TXN</td>\n",
       "      <td>5.175092e+06</td>\n",
       "    </tr>\n",
       "    <tr>\n",
       "      <th>14</th>\n",
       "      <td>GERN</td>\n",
       "      <td>5.152494e+06</td>\n",
       "    </tr>\n",
       "    <tr>\n",
       "      <th>15</th>\n",
       "      <td>MCHP</td>\n",
       "      <td>5.060092e+06</td>\n",
       "    </tr>\n",
       "    <tr>\n",
       "      <th>16</th>\n",
       "      <td>ARDX</td>\n",
       "      <td>4.913647e+06</td>\n",
       "    </tr>\n",
       "    <tr>\n",
       "      <th>17</th>\n",
       "      <td>RKLB</td>\n",
       "      <td>4.744283e+06</td>\n",
       "    </tr>\n",
       "    <tr>\n",
       "      <th>18</th>\n",
       "      <td>BCRX</td>\n",
       "      <td>4.283904e+06</td>\n",
       "    </tr>\n",
       "    <tr>\n",
       "      <th>19</th>\n",
       "      <td>IOVA</td>\n",
       "      <td>3.892537e+06</td>\n",
       "    </tr>\n",
       "  </tbody>\n",
       "</table>\n",
       "</div>"
      ],
      "text/plain": [
       "   YFTicker  Média Volume\n",
       "0      NVDA  4.577784e+08\n",
       "1       AMD  6.507724e+07\n",
       "2      INTC  3.916639e+07\n",
       "3      AVGO  2.465012e+07\n",
       "4        MU  1.973214e+07\n",
       "5        BA  1.287788e+07\n",
       "6        GE  1.169423e+07\n",
       "7      MRVL  1.047801e+07\n",
       "8      MRNA  9.476764e+06\n",
       "9      QCOM  9.137129e+06\n",
       "10       ON  7.049471e+06\n",
       "11      RTX  7.036302e+06\n",
       "12     NVAX  6.970482e+06\n",
       "13      TXN  5.175092e+06\n",
       "14     GERN  5.152494e+06\n",
       "15     MCHP  5.060092e+06\n",
       "16     ARDX  4.913647e+06\n",
       "17     RKLB  4.744283e+06\n",
       "18     BCRX  4.283904e+06\n",
       "19     IOVA  3.892537e+06"
      ]
     },
     "execution_count": 9,
     "metadata": {},
     "output_type": "execute_result"
    }
   ],
   "source": [
    "volumes_medios = {}\n",
    "for ativo in dados_ohlcv.keys():\n",
    "    volumes_medios[ativo] = dados_ohlcv[ativo]['Volume'].mean()\n",
    "\n",
    "volumes_medios = pd.DataFrame(volumes_medios, index = ['Média Volume']).T.sort_values(by='Média Volume', ascending=False)\n",
    "volumes_medios.reset_index(inplace=True)\n",
    "volumes_medios.columns = ['YFTicker', 'Média Volume']\n",
    "volumes_medios.head(20)"
   ]
  },
  {
   "cell_type": "markdown",
   "metadata": {},
   "source": [
    "#### 2.1.1. Obtenção de volumes de ativos com indicação de setor"
   ]
  },
  {
   "cell_type": "code",
   "execution_count": 10,
   "metadata": {},
   "outputs": [
    {
     "data": {
      "text/html": [
       "<div>\n",
       "<style scoped>\n",
       "    .dataframe tbody tr th:only-of-type {\n",
       "        vertical-align: middle;\n",
       "    }\n",
       "\n",
       "    .dataframe tbody tr th {\n",
       "        vertical-align: top;\n",
       "    }\n",
       "\n",
       "    .dataframe thead th {\n",
       "        text-align: right;\n",
       "    }\n",
       "</style>\n",
       "<table border=\"1\" class=\"dataframe\">\n",
       "  <thead>\n",
       "    <tr style=\"text-align: right;\">\n",
       "      <th></th>\n",
       "      <th>YFTicker</th>\n",
       "      <th>Média Volume</th>\n",
       "      <th>Industria</th>\n",
       "      <th>SetorEconomico</th>\n",
       "      <th>NomeCompletoParaAuditoria</th>\n",
       "      <th>Bolsa</th>\n",
       "    </tr>\n",
       "  </thead>\n",
       "  <tbody>\n",
       "    <tr>\n",
       "      <th>0</th>\n",
       "      <td>NVDA</td>\n",
       "      <td>4.577784e+08</td>\n",
       "      <td>Semiconductors</td>\n",
       "      <td>Technology</td>\n",
       "      <td>NVIDIA Corporation</td>\n",
       "      <td>NMS</td>\n",
       "    </tr>\n",
       "    <tr>\n",
       "      <th>1</th>\n",
       "      <td>AMD</td>\n",
       "      <td>6.507724e+07</td>\n",
       "      <td>Semiconductors</td>\n",
       "      <td>Technology</td>\n",
       "      <td>Advanced Micro Devices, Inc.</td>\n",
       "      <td>NMS</td>\n",
       "    </tr>\n",
       "    <tr>\n",
       "      <th>2</th>\n",
       "      <td>INTC</td>\n",
       "      <td>3.916639e+07</td>\n",
       "      <td>Semiconductors</td>\n",
       "      <td>Technology</td>\n",
       "      <td>Intel Corporation</td>\n",
       "      <td>NMS</td>\n",
       "    </tr>\n",
       "    <tr>\n",
       "      <th>3</th>\n",
       "      <td>AVGO</td>\n",
       "      <td>2.465012e+07</td>\n",
       "      <td>Semiconductors</td>\n",
       "      <td>Technology</td>\n",
       "      <td>Broadcom Inc.</td>\n",
       "      <td>NMS</td>\n",
       "    </tr>\n",
       "    <tr>\n",
       "      <th>4</th>\n",
       "      <td>MU</td>\n",
       "      <td>1.973214e+07</td>\n",
       "      <td>Semiconductors</td>\n",
       "      <td>Technology</td>\n",
       "      <td>Micron Technology, Inc.</td>\n",
       "      <td>NMS</td>\n",
       "    </tr>\n",
       "  </tbody>\n",
       "</table>\n",
       "</div>"
      ],
      "text/plain": [
       "  YFTicker  Média Volume       Industria SetorEconomico  \\\n",
       "0     NVDA  4.577784e+08  Semiconductors     Technology   \n",
       "1      AMD  6.507724e+07  Semiconductors     Technology   \n",
       "2     INTC  3.916639e+07  Semiconductors     Technology   \n",
       "3     AVGO  2.465012e+07  Semiconductors     Technology   \n",
       "4       MU  1.973214e+07  Semiconductors     Technology   \n",
       "\n",
       "      NomeCompletoParaAuditoria Bolsa  \n",
       "0            NVIDIA Corporation   NMS  \n",
       "1  Advanced Micro Devices, Inc.   NMS  \n",
       "2             Intel Corporation   NMS  \n",
       "3                 Broadcom Inc.   NMS  \n",
       "4       Micron Technology, Inc.   NMS  "
      ]
     },
     "execution_count": 10,
     "metadata": {},
     "output_type": "execute_result"
    }
   ],
   "source": [
    "dados_enriquecimento = ativos_selecionados[['YFTicker', 'Industria', 'SetorEconomico', 'NomeCompletoParaAuditoria', 'Bolsa']].drop_duplicates(subset='YFTicker')\n",
    "vol_med_ref = volumes_medios.merge(dados_enriquecimento, on='YFTicker', how = 'left', validate='one_to_one')\n",
    "vol_med_ref.head()"
   ]
  },
  {
   "cell_type": "code",
   "execution_count": 11,
   "metadata": {},
   "outputs": [],
   "source": [
    "# Obtendo mediana por setor \n",
    "ativos_permitidos = {}\n",
    "\n",
    "for industria in vol_med_ref['Industria']:\n",
    "    mediana = vol_med_ref[vol_med_ref['Industria']==industria]['Média Volume'].median()\n",
    "    ativos_permitidos[industria] = list(vol_med_ref[(vol_med_ref['Industria']==industria) & (vol_med_ref['Média Volume']>= mediana)]['YFTicker'].values)\n"
   ]
  },
  {
   "cell_type": "markdown",
   "metadata": {},
   "source": [
    "### 2.2. Distribuição dos Volumes"
   ]
  },
  {
   "cell_type": "code",
   "execution_count": 12,
   "metadata": {},
   "outputs": [
    {
     "data": {
      "application/vnd.plotly.v1+json": {
       "config": {
        "plotlyServerURL": "https://plot.ly"
       },
       "data": [
        {
         "alignmentgroup": "True",
         "hovertemplate": "Industria=%{x}<br>Média Volume=%{y}<extra></extra>",
         "legendgroup": "",
         "marker": {
          "color": "#636efa"
         },
         "name": "",
         "notched": false,
         "offsetgroup": "",
         "orientation": "v",
         "showlegend": false,
         "type": "box",
         "x": [
          "Semiconductors",
          "Semiconductors",
          "Semiconductors",
          "Semiconductors",
          "Semiconductors",
          "Aerospace & Defense",
          "Aerospace & Defense",
          "Semiconductors",
          "Biotechnology",
          "Semiconductors",
          "Semiconductors",
          "Aerospace & Defense",
          "Biotechnology",
          "Semiconductors",
          "Biotechnology",
          "Semiconductors",
          "Biotechnology",
          "Aerospace & Defense",
          "Biotechnology",
          "Biotechnology",
          "Aerospace & Defense",
          "Biotechnology",
          "Semiconductors",
          "Biotechnology",
          "Insurance—Specialty",
          "Aerospace & Defense",
          "Biotechnology",
          "Biotechnology",
          "Aerospace & Defense",
          "Biotechnology",
          "Biotechnology",
          "Insurance—Property & Casualty",
          "Semiconductors",
          "Biotechnology",
          "Semiconductors",
          "Aerospace & Defense",
          "Biotechnology",
          "Biotechnology",
          "Biotechnology",
          "Biotechnology",
          "Biotechnology",
          "Insurance—Property & Casualty",
          "Biotechnology",
          "Semiconductors",
          "Biotechnology",
          "Insurance—Property & Casualty",
          "Semiconductors",
          "Semiconductors",
          "Insurance—Specialty",
          "Insurance—Property & Casualty",
          "Insurance Brokers",
          "Insurance—Property & Casualty",
          "Insurance—Property & Casualty",
          "Biotechnology",
          "Biotechnology",
          "Biotechnology",
          "Semiconductors",
          "Biotechnology",
          "Biotechnology",
          "Biotechnology",
          "Biotechnology",
          "Biotechnology",
          "Insurance—Specialty",
          "Biotechnology",
          "Biotechnology",
          "Biotechnology",
          "Biotechnology",
          "Insurance—Property & Casualty",
          "Aerospace & Defense",
          "Biotechnology",
          "Insurance Brokers",
          "Biotechnology",
          "Semiconductors",
          "Biotechnology",
          "Biotechnology",
          "Biotechnology",
          "Aerospace & Defense",
          "Aerospace & Defense",
          "Aerospace & Defense",
          "Biotechnology",
          "Biotechnology",
          "Biotechnology",
          "Aerospace & Defense",
          "Biotechnology",
          "Semiconductors",
          "Biotechnology",
          "Biotechnology",
          "Biotechnology",
          "Biotechnology",
          "Biotechnology",
          "Biotechnology",
          "Biotechnology",
          "Biotechnology",
          "Biotechnology",
          "Semiconductors",
          "Aerospace & Defense",
          "Semiconductors",
          "Aerospace & Defense",
          "Biotechnology",
          "Biotechnology",
          "Semiconductors",
          "Biotechnology",
          "Biotechnology",
          "Biotechnology",
          "Biotechnology",
          "Biotechnology",
          "Biotechnology",
          "Biotechnology",
          "Insurance Brokers",
          "Biotechnology",
          "Biotechnology",
          "Aerospace & Defense",
          "Insurance—Property & Casualty",
          "Biotechnology",
          "Biotechnology",
          "Biotechnology",
          "Aerospace & Defense",
          "Biotechnology",
          "Biotechnology",
          "Biotechnology",
          "Biotechnology",
          "Biotechnology",
          "Biotechnology",
          "Biotechnology",
          "Biotechnology",
          "Biotechnology",
          "Insurance—Property & Casualty",
          "Biotechnology",
          "Biotechnology",
          "Biotechnology",
          "Biotechnology",
          "Semiconductors",
          "Biotechnology",
          "Biotechnology",
          "Biotechnology",
          "Biotechnology",
          "Insurance—Specialty",
          "Biotechnology",
          "Insurance—Specialty",
          "Biotechnology",
          "Semiconductors",
          "Biotechnology",
          "Biotechnology",
          "Biotechnology",
          "Biotechnology",
          "Insurance—Specialty",
          "Biotechnology",
          "Biotechnology",
          "Biotechnology",
          "Biotechnology",
          "Biotechnology",
          "Aerospace & Defense",
          "Biotechnology",
          "Biotechnology",
          "Biotechnology",
          "Biotechnology",
          "Biotechnology",
          "Insurance—Specialty",
          "Biotechnology",
          "Biotechnology",
          "Biotechnology",
          "Aerospace & Defense",
          "Biotechnology",
          "Aerospace & Defense",
          "Semiconductors",
          "Biotechnology",
          "Biotechnology",
          "Biotechnology",
          "Biotechnology",
          "Biotechnology",
          "Biotechnology",
          "Biotechnology",
          "Semiconductors",
          "Biotechnology",
          "Biotechnology",
          "Aerospace & Defense",
          "Biotechnology",
          "Biotechnology",
          "Semiconductors",
          "Biotechnology",
          "Semiconductors",
          "Insurance—Specialty",
          "Biotechnology",
          "Insurance—Reinsurance",
          "Biotechnology",
          "Biotechnology",
          "Biotechnology",
          "Biotechnology",
          "Biotechnology",
          "Biotechnology",
          "Biotechnology",
          "Biotechnology",
          "Biotechnology",
          "Biotechnology",
          "Biotechnology",
          "Biotechnology",
          "Insurance—Property & Casualty",
          "Semiconductors",
          "Insurance—Property & Casualty",
          "Biotechnology",
          "Aerospace & Defense",
          "Aerospace & Defense",
          "Biotechnology",
          "Biotechnology",
          "Biotechnology",
          "Semiconductors",
          "Biotechnology",
          "Insurance Brokers",
          "Biotechnology",
          "Biotechnology",
          "Insurance—Property & Casualty",
          "Biotechnology",
          "Biotechnology",
          "Aerospace & Defense",
          "Aerospace & Defense",
          "Biotechnology",
          "Insurance—Property & Casualty",
          "Biotechnology",
          "Biotechnology",
          "Biotechnology",
          "Biotechnology",
          "Biotechnology",
          "Aerospace & Defense",
          "Insurance—Property & Casualty",
          "Semiconductors",
          "Biotechnology",
          "Semiconductors",
          "Biotechnology",
          "Insurance—Property & Casualty",
          "Insurance—Property & Casualty",
          "Insurance—Property & Casualty",
          "Biotechnology",
          "Biotechnology",
          "Biotechnology",
          "Aerospace & Defense",
          "Insurance—Specialty",
          "Biotechnology",
          "Biotechnology",
          "Biotechnology",
          "Insurance—Property & Casualty",
          "Semiconductors",
          "Insurance—Property & Casualty",
          "Biotechnology",
          "Biotechnology",
          "Aerospace & Defense",
          "Biotechnology",
          "Biotechnology",
          "Aerospace & Defense",
          "Insurance—Property & Casualty",
          "Insurance—Property & Casualty",
          "Biotechnology",
          "Insurance—Property & Casualty",
          "Aerospace & Defense",
          "Insurance—Property & Casualty",
          "Biotechnology",
          "Aerospace & Defense",
          "Insurance—Property & Casualty",
          "Biotechnology",
          "Insurance—Specialty",
          "Semiconductors",
          "Biotechnology",
          "Insurance—Property & Casualty",
          "Biotechnology",
          "Biotechnology",
          "Biotechnology",
          "Biotechnology",
          "Biotechnology",
          "Biotechnology",
          "Aerospace & Defense",
          "Insurance Brokers",
          "Insurance—Property & Casualty",
          "Insurance—Specialty",
          "Biotechnology",
          "Biotechnology",
          "Aerospace & Defense",
          "Biotechnology",
          "Biotechnology",
          "Biotechnology",
          "Aerospace & Defense",
          "Biotechnology",
          "Insurance—Property & Casualty",
          "Insurance Brokers",
          "Aerospace & Defense",
          "Biotechnology",
          "Insurance—Property & Casualty",
          "Insurance Brokers",
          "Biotechnology",
          "Biotechnology",
          "Biotechnology",
          "Biotechnology",
          "Aerospace & Defense",
          "Biotechnology",
          "Biotechnology",
          "Semiconductors",
          "Insurance Brokers"
         ],
         "x0": " ",
         "xaxis": "x",
         "y": [
          457778352.7060783,
          65077235.80349708,
          39166387.84346378,
          24650118.151540384,
          19732135.803497087,
          12877883.01415487,
          11694234.695253955,
          10478011.323896753,
          9476764.363030808,
          9137128.64279767,
          7049470.940882598,
          7036302.2323064115,
          6970481.931723564,
          5175092.42298085,
          5152494.088259784,
          5060092.42298085,
          4913647.293921732,
          4744282.546201232,
          4283903.580349709,
          3892537.4687760198,
          3817049.634273772,
          3409099.5836802665,
          3342694.504579517,
          3209869.941715237,
          3142986.0116569526,
          3094738.4679433806,
          3035919.317235637,
          3014636.885928393,
          2983465.2789342217,
          2803729.190421893,
          2771493.5886761034,
          2725207.9100749376,
          2721176.595744681,
          2645232.7227310576,
          2626479.7668609493,
          2591175.7909215954,
          2432243.880099917,
          2383829.8917568694,
          2235327.726894255,
          2210248.0220791167,
          2132066.1948376354,
          2082964.3630308076,
          2073113.572023314,
          2041383.5970024979,
          1949615.06147541,
          1908247.3771856786,
          1905577.7777777778,
          1863210.12145749,
          1861328.9292256453,
          1853941.7152373022,
          1827436.4696086594,
          1778035.9700249792,
          1762367.534883721,
          1710448.3763530392,
          1693242.4646128227,
          1693110.324729392,
          1675400.24979184,
          1642985.8451290592,
          1637060.3363006923,
          1627378.8509575354,
          1626299.9167360533,
          1572723.2306411325,
          1538176.6028309742,
          1503763.0308076602,
          1482295.420482931,
          1479006.661115737,
          1420346.0606060605,
          1417307.0774354704,
          1395177.7685262281,
          1363399.6669442132,
          1345834.054954205,
          1341282.9308909243,
          1340127.8934221482,
          1333694.7543713572,
          1327291.1447084234,
          1313917.235636969,
          1298243.1307243963,
          1255555.4088259784,
          1249960.532889259,
          1236408.076602831,
          1226511.240632806,
          1221303.8910505837,
          1204470.2747710242,
          1189088.888888889,
          1172671.4717741935,
          1164080.3497085762,
          1154828.1117696867,
          1149948.4596169859,
          1135791.4209115282,
          1129475.7701915072,
          1128097.418817652,
          1123317.6519567028,
          1095881.9944598337,
          1084669.192339717,
          1071235.8867610325,
          1062263.114071607,
          1054688.3430474605,
          1054571.6069941716,
          1040386.9275603663,
          1008124.4840525328,
          1001538.7177352207,
          992709.2422980849,
          974988.3430474604,
          946106.910907577,
          944687.5104079933,
          939813.1449631449,
          939173.4919286321,
          935931.723563697,
          934307.9933388843,
          919624.85928393,
          917187.7133105802,
          893806.7443796836,
          891970.607826811,
          888577.0938446014,
          877415.4291224687,
          826081.848459617,
          817706.5778517901,
          817602.4979184014,
          814165.7993338885,
          808977.6852622814,
          802243.7260616153,
          796418.151540383,
          780974.9484536082,
          777138.8009991674,
          767324.8959200666,
          765941.1323896752,
          764418.6511240633,
          762330.7621671258,
          754278.0183180682,
          753389.7585345545,
          751998.0849292256,
          750734.1382181515,
          747847.6269775188,
          740856.8692756037,
          736976.5195670275,
          731262.0111731844,
          726710.0749375521,
          717370.9408825978,
          714920.6172839506,
          713627.5943396227,
          709633.721898418,
          690325.3955037469,
          675873.0224812656,
          668612.1565362199,
          639512.0732722731,
          638908.2431307244,
          630095.8368026644,
          628139.4671107411,
          613549.542048293,
          610762.9475437136,
          610121.9816819318,
          604413.6552872607,
          602422.9808492922,
          601875.3535353536,
          598595.8368026644,
          595946.7762557077,
          584730.1415487094,
          583902.3313905079,
          572565.5555555555,
          568138.9432485322,
          565999.5024875621,
          565167.443796836,
          561185.7290589452,
          557534.3880099917,
          552518.73438801,
          552181.6835970025,
          550324.8031496063,
          546971.5237302248,
          543441.9517069109,
          542992.7456382002,
          532017.9019384264,
          521536.4423076923,
          494970.60782681097,
          494623.77358490566,
          493647.2106577852,
          492729.6419650291,
          491957.0832639467,
          485782.66884531593,
          484974.2714404663,
          472914.8588410104,
          472043.96336386347,
          467472.02331390505,
          463916.1496350365,
          458794.42131557036,
          457798.3072033898,
          454292.0345489443,
          449613.7380191693,
          448544.4216990788,
          446410.5745212323,
          442776.33365664404,
          440762.53122398,
          434302.6837806301,
          432175.3638253638,
          429583.2639467111,
          427048.2098251457,
          421642.671009772,
          416400.0832639467,
          410185.6786011657,
          409219.81681931723,
          401754.7699214366,
          396510.15820149874,
          393705.9117402165,
          392869.35886761034,
          382801.7085761865,
          380409.5753538718,
          379816.0699417152,
          370521.2822796082,
          369215.9034138218,
          365000.33305578685,
          351362.2395833333,
          350026.77345537755,
          345896.9279661017,
          345485.51207327226,
          340822.31473771855,
          329734.97085761867,
          324856.77018633543,
          322619.73355537053,
          315051.95670274773,
          312810.9791840133,
          311672.3413821815,
          303361.2822647793,
          298685.481265612,
          292735.4704412989,
          291163.8634471274,
          288911.82348043297,
          288300.7493755204,
          285195.25395503745,
          279914.57119067444,
          278928.80932556203,
          275817.37160120846,
          270743.7135720233,
          268416.68331668334,
          258974.87636003958,
          256988.42482100238,
          250885.5120732723,
          231282.36057068742,
          227154.28809325563,
          225121.9755826859,
          224061.59825327512,
          223428.80932556203,
          220390.42464612823,
          219914.82098251456,
          215798.27027027027,
          213935.36155202822,
          213540.38301415488,
          209129.89175686927,
          203539.50041631973,
          202982.93089092424,
          199372.10657785178,
          192877.3522064946,
          188111.74285714285,
          187992.17318900916,
          186167.44379683596,
          175998.83430474604,
          165564.94597839136,
          164699.72826086957,
          154560.61615320566,
          150323.91732283463,
          146173.27227310574,
          146026.28032345013,
          143664.25702811245,
          136154.01891252954,
          131629.14571190675,
          121380.13513513513,
          119382.87760199833,
          112704.68003820439,
          112000.1415487094,
          109555.31088082901,
          106718.25657894737,
          99938.96752706078,
          97591.09075770191,
          96165.86178184846,
          93511.5984015984,
          81485.91323210413,
          77439.13405495421,
          76879.41465445462,
          71002.85355648535,
          67404.76769358867,
          66818.23480432972,
          63887.75770191507,
          63484.9292256453,
          61235.00975081257,
          57644.79600333056,
          53662.53122398002,
          48144.379683597006,
          46431.80682764363,
          41238.603663613656,
          38482.25145711907,
          30954.392173189008,
          7617.447925486876,
          3426.6444629475436,
          2437.5886761032475,
          2409.285714285714,
          10.007377049180327,
          3.363876651982379
         ],
         "y0": " ",
         "yaxis": "y"
        }
       ],
       "layout": {
        "boxmode": "group",
        "legend": {
         "tracegroupgap": 0
        },
        "template": {
         "data": {
          "bar": [
           {
            "error_x": {
             "color": "#f2f5fa"
            },
            "error_y": {
             "color": "#f2f5fa"
            },
            "marker": {
             "line": {
              "color": "rgb(17,17,17)",
              "width": 0.5
             },
             "pattern": {
              "fillmode": "overlay",
              "size": 10,
              "solidity": 0.2
             }
            },
            "type": "bar"
           }
          ],
          "barpolar": [
           {
            "marker": {
             "line": {
              "color": "rgb(17,17,17)",
              "width": 0.5
             },
             "pattern": {
              "fillmode": "overlay",
              "size": 10,
              "solidity": 0.2
             }
            },
            "type": "barpolar"
           }
          ],
          "carpet": [
           {
            "aaxis": {
             "endlinecolor": "#A2B1C6",
             "gridcolor": "#506784",
             "linecolor": "#506784",
             "minorgridcolor": "#506784",
             "startlinecolor": "#A2B1C6"
            },
            "baxis": {
             "endlinecolor": "#A2B1C6",
             "gridcolor": "#506784",
             "linecolor": "#506784",
             "minorgridcolor": "#506784",
             "startlinecolor": "#A2B1C6"
            },
            "type": "carpet"
           }
          ],
          "choropleth": [
           {
            "colorbar": {
             "outlinewidth": 0,
             "ticks": ""
            },
            "type": "choropleth"
           }
          ],
          "contour": [
           {
            "colorbar": {
             "outlinewidth": 0,
             "ticks": ""
            },
            "colorscale": [
             [
              0,
              "#0d0887"
             ],
             [
              0.1111111111111111,
              "#46039f"
             ],
             [
              0.2222222222222222,
              "#7201a8"
             ],
             [
              0.3333333333333333,
              "#9c179e"
             ],
             [
              0.4444444444444444,
              "#bd3786"
             ],
             [
              0.5555555555555556,
              "#d8576b"
             ],
             [
              0.6666666666666666,
              "#ed7953"
             ],
             [
              0.7777777777777778,
              "#fb9f3a"
             ],
             [
              0.8888888888888888,
              "#fdca26"
             ],
             [
              1,
              "#f0f921"
             ]
            ],
            "type": "contour"
           }
          ],
          "contourcarpet": [
           {
            "colorbar": {
             "outlinewidth": 0,
             "ticks": ""
            },
            "type": "contourcarpet"
           }
          ],
          "heatmap": [
           {
            "colorbar": {
             "outlinewidth": 0,
             "ticks": ""
            },
            "colorscale": [
             [
              0,
              "#0d0887"
             ],
             [
              0.1111111111111111,
              "#46039f"
             ],
             [
              0.2222222222222222,
              "#7201a8"
             ],
             [
              0.3333333333333333,
              "#9c179e"
             ],
             [
              0.4444444444444444,
              "#bd3786"
             ],
             [
              0.5555555555555556,
              "#d8576b"
             ],
             [
              0.6666666666666666,
              "#ed7953"
             ],
             [
              0.7777777777777778,
              "#fb9f3a"
             ],
             [
              0.8888888888888888,
              "#fdca26"
             ],
             [
              1,
              "#f0f921"
             ]
            ],
            "type": "heatmap"
           }
          ],
          "heatmapgl": [
           {
            "colorbar": {
             "outlinewidth": 0,
             "ticks": ""
            },
            "colorscale": [
             [
              0,
              "#0d0887"
             ],
             [
              0.1111111111111111,
              "#46039f"
             ],
             [
              0.2222222222222222,
              "#7201a8"
             ],
             [
              0.3333333333333333,
              "#9c179e"
             ],
             [
              0.4444444444444444,
              "#bd3786"
             ],
             [
              0.5555555555555556,
              "#d8576b"
             ],
             [
              0.6666666666666666,
              "#ed7953"
             ],
             [
              0.7777777777777778,
              "#fb9f3a"
             ],
             [
              0.8888888888888888,
              "#fdca26"
             ],
             [
              1,
              "#f0f921"
             ]
            ],
            "type": "heatmapgl"
           }
          ],
          "histogram": [
           {
            "marker": {
             "pattern": {
              "fillmode": "overlay",
              "size": 10,
              "solidity": 0.2
             }
            },
            "type": "histogram"
           }
          ],
          "histogram2d": [
           {
            "colorbar": {
             "outlinewidth": 0,
             "ticks": ""
            },
            "colorscale": [
             [
              0,
              "#0d0887"
             ],
             [
              0.1111111111111111,
              "#46039f"
             ],
             [
              0.2222222222222222,
              "#7201a8"
             ],
             [
              0.3333333333333333,
              "#9c179e"
             ],
             [
              0.4444444444444444,
              "#bd3786"
             ],
             [
              0.5555555555555556,
              "#d8576b"
             ],
             [
              0.6666666666666666,
              "#ed7953"
             ],
             [
              0.7777777777777778,
              "#fb9f3a"
             ],
             [
              0.8888888888888888,
              "#fdca26"
             ],
             [
              1,
              "#f0f921"
             ]
            ],
            "type": "histogram2d"
           }
          ],
          "histogram2dcontour": [
           {
            "colorbar": {
             "outlinewidth": 0,
             "ticks": ""
            },
            "colorscale": [
             [
              0,
              "#0d0887"
             ],
             [
              0.1111111111111111,
              "#46039f"
             ],
             [
              0.2222222222222222,
              "#7201a8"
             ],
             [
              0.3333333333333333,
              "#9c179e"
             ],
             [
              0.4444444444444444,
              "#bd3786"
             ],
             [
              0.5555555555555556,
              "#d8576b"
             ],
             [
              0.6666666666666666,
              "#ed7953"
             ],
             [
              0.7777777777777778,
              "#fb9f3a"
             ],
             [
              0.8888888888888888,
              "#fdca26"
             ],
             [
              1,
              "#f0f921"
             ]
            ],
            "type": "histogram2dcontour"
           }
          ],
          "mesh3d": [
           {
            "colorbar": {
             "outlinewidth": 0,
             "ticks": ""
            },
            "type": "mesh3d"
           }
          ],
          "parcoords": [
           {
            "line": {
             "colorbar": {
              "outlinewidth": 0,
              "ticks": ""
             }
            },
            "type": "parcoords"
           }
          ],
          "pie": [
           {
            "automargin": true,
            "type": "pie"
           }
          ],
          "scatter": [
           {
            "marker": {
             "line": {
              "color": "#283442"
             }
            },
            "type": "scatter"
           }
          ],
          "scatter3d": [
           {
            "line": {
             "colorbar": {
              "outlinewidth": 0,
              "ticks": ""
             }
            },
            "marker": {
             "colorbar": {
              "outlinewidth": 0,
              "ticks": ""
             }
            },
            "type": "scatter3d"
           }
          ],
          "scattercarpet": [
           {
            "marker": {
             "colorbar": {
              "outlinewidth": 0,
              "ticks": ""
             }
            },
            "type": "scattercarpet"
           }
          ],
          "scattergeo": [
           {
            "marker": {
             "colorbar": {
              "outlinewidth": 0,
              "ticks": ""
             }
            },
            "type": "scattergeo"
           }
          ],
          "scattergl": [
           {
            "marker": {
             "line": {
              "color": "#283442"
             }
            },
            "type": "scattergl"
           }
          ],
          "scattermapbox": [
           {
            "marker": {
             "colorbar": {
              "outlinewidth": 0,
              "ticks": ""
             }
            },
            "type": "scattermapbox"
           }
          ],
          "scatterpolar": [
           {
            "marker": {
             "colorbar": {
              "outlinewidth": 0,
              "ticks": ""
             }
            },
            "type": "scatterpolar"
           }
          ],
          "scatterpolargl": [
           {
            "marker": {
             "colorbar": {
              "outlinewidth": 0,
              "ticks": ""
             }
            },
            "type": "scatterpolargl"
           }
          ],
          "scatterternary": [
           {
            "marker": {
             "colorbar": {
              "outlinewidth": 0,
              "ticks": ""
             }
            },
            "type": "scatterternary"
           }
          ],
          "surface": [
           {
            "colorbar": {
             "outlinewidth": 0,
             "ticks": ""
            },
            "colorscale": [
             [
              0,
              "#0d0887"
             ],
             [
              0.1111111111111111,
              "#46039f"
             ],
             [
              0.2222222222222222,
              "#7201a8"
             ],
             [
              0.3333333333333333,
              "#9c179e"
             ],
             [
              0.4444444444444444,
              "#bd3786"
             ],
             [
              0.5555555555555556,
              "#d8576b"
             ],
             [
              0.6666666666666666,
              "#ed7953"
             ],
             [
              0.7777777777777778,
              "#fb9f3a"
             ],
             [
              0.8888888888888888,
              "#fdca26"
             ],
             [
              1,
              "#f0f921"
             ]
            ],
            "type": "surface"
           }
          ],
          "table": [
           {
            "cells": {
             "fill": {
              "color": "#506784"
             },
             "line": {
              "color": "rgb(17,17,17)"
             }
            },
            "header": {
             "fill": {
              "color": "#2a3f5f"
             },
             "line": {
              "color": "rgb(17,17,17)"
             }
            },
            "type": "table"
           }
          ]
         },
         "layout": {
          "annotationdefaults": {
           "arrowcolor": "#f2f5fa",
           "arrowhead": 0,
           "arrowwidth": 1
          },
          "autotypenumbers": "strict",
          "coloraxis": {
           "colorbar": {
            "outlinewidth": 0,
            "ticks": ""
           }
          },
          "colorscale": {
           "diverging": [
            [
             0,
             "#8e0152"
            ],
            [
             0.1,
             "#c51b7d"
            ],
            [
             0.2,
             "#de77ae"
            ],
            [
             0.3,
             "#f1b6da"
            ],
            [
             0.4,
             "#fde0ef"
            ],
            [
             0.5,
             "#f7f7f7"
            ],
            [
             0.6,
             "#e6f5d0"
            ],
            [
             0.7,
             "#b8e186"
            ],
            [
             0.8,
             "#7fbc41"
            ],
            [
             0.9,
             "#4d9221"
            ],
            [
             1,
             "#276419"
            ]
           ],
           "sequential": [
            [
             0,
             "#0d0887"
            ],
            [
             0.1111111111111111,
             "#46039f"
            ],
            [
             0.2222222222222222,
             "#7201a8"
            ],
            [
             0.3333333333333333,
             "#9c179e"
            ],
            [
             0.4444444444444444,
             "#bd3786"
            ],
            [
             0.5555555555555556,
             "#d8576b"
            ],
            [
             0.6666666666666666,
             "#ed7953"
            ],
            [
             0.7777777777777778,
             "#fb9f3a"
            ],
            [
             0.8888888888888888,
             "#fdca26"
            ],
            [
             1,
             "#f0f921"
            ]
           ],
           "sequentialminus": [
            [
             0,
             "#0d0887"
            ],
            [
             0.1111111111111111,
             "#46039f"
            ],
            [
             0.2222222222222222,
             "#7201a8"
            ],
            [
             0.3333333333333333,
             "#9c179e"
            ],
            [
             0.4444444444444444,
             "#bd3786"
            ],
            [
             0.5555555555555556,
             "#d8576b"
            ],
            [
             0.6666666666666666,
             "#ed7953"
            ],
            [
             0.7777777777777778,
             "#fb9f3a"
            ],
            [
             0.8888888888888888,
             "#fdca26"
            ],
            [
             1,
             "#f0f921"
            ]
           ]
          },
          "colorway": [
           "#636efa",
           "#EF553B",
           "#00cc96",
           "#ab63fa",
           "#FFA15A",
           "#19d3f3",
           "#FF6692",
           "#B6E880",
           "#FF97FF",
           "#FECB52"
          ],
          "font": {
           "color": "#f2f5fa"
          },
          "geo": {
           "bgcolor": "rgb(17,17,17)",
           "lakecolor": "rgb(17,17,17)",
           "landcolor": "rgb(17,17,17)",
           "showlakes": true,
           "showland": true,
           "subunitcolor": "#506784"
          },
          "hoverlabel": {
           "align": "left"
          },
          "hovermode": "closest",
          "mapbox": {
           "style": "dark"
          },
          "paper_bgcolor": "rgb(17,17,17)",
          "plot_bgcolor": "rgb(17,17,17)",
          "polar": {
           "angularaxis": {
            "gridcolor": "#506784",
            "linecolor": "#506784",
            "ticks": ""
           },
           "bgcolor": "rgb(17,17,17)",
           "radialaxis": {
            "gridcolor": "#506784",
            "linecolor": "#506784",
            "ticks": ""
           }
          },
          "scene": {
           "xaxis": {
            "backgroundcolor": "rgb(17,17,17)",
            "gridcolor": "#506784",
            "gridwidth": 2,
            "linecolor": "#506784",
            "showbackground": true,
            "ticks": "",
            "zerolinecolor": "#C8D4E3"
           },
           "yaxis": {
            "backgroundcolor": "rgb(17,17,17)",
            "gridcolor": "#506784",
            "gridwidth": 2,
            "linecolor": "#506784",
            "showbackground": true,
            "ticks": "",
            "zerolinecolor": "#C8D4E3"
           },
           "zaxis": {
            "backgroundcolor": "rgb(17,17,17)",
            "gridcolor": "#506784",
            "gridwidth": 2,
            "linecolor": "#506784",
            "showbackground": true,
            "ticks": "",
            "zerolinecolor": "#C8D4E3"
           }
          },
          "shapedefaults": {
           "line": {
            "color": "#f2f5fa"
           }
          },
          "sliderdefaults": {
           "bgcolor": "#C8D4E3",
           "bordercolor": "rgb(17,17,17)",
           "borderwidth": 1,
           "tickwidth": 0
          },
          "ternary": {
           "aaxis": {
            "gridcolor": "#506784",
            "linecolor": "#506784",
            "ticks": ""
           },
           "baxis": {
            "gridcolor": "#506784",
            "linecolor": "#506784",
            "ticks": ""
           },
           "bgcolor": "rgb(17,17,17)",
           "caxis": {
            "gridcolor": "#506784",
            "linecolor": "#506784",
            "ticks": ""
           }
          },
          "title": {
           "x": 0.05
          },
          "updatemenudefaults": {
           "bgcolor": "#506784",
           "borderwidth": 0
          },
          "xaxis": {
           "automargin": true,
           "gridcolor": "#283442",
           "linecolor": "#506784",
           "ticks": "",
           "title": {
            "standoff": 15
           },
           "zerolinecolor": "#283442",
           "zerolinewidth": 2
          },
          "yaxis": {
           "automargin": true,
           "gridcolor": "#283442",
           "linecolor": "#506784",
           "ticks": "",
           "title": {
            "standoff": 15
           },
           "zerolinecolor": "#283442",
           "zerolinewidth": 2
          }
         }
        },
        "title": {
         "text": "Box Plot do Volume Médio por Industria"
        },
        "xaxis": {
         "anchor": "y",
         "domain": [
          0,
          1
         ],
         "title": {
          "text": "Industria"
         }
        },
        "yaxis": {
         "anchor": "x",
         "domain": [
          0,
          1
         ],
         "title": {
          "text": "Média Volume"
         }
        }
       }
      }
     },
     "metadata": {},
     "output_type": "display_data"
    }
   ],
   "source": [
    "fig = px.box(vol_med_ref, x=\"Industria\", y=\"Média Volume\", title=\"Box Plot do Volume Médio por Industria\", template=\"plotly_dark\")\n",
    "fig.show()"
   ]
  },
  {
   "cell_type": "markdown",
   "metadata": {},
   "source": [
    "Percebe-se que NVIDIA tem sido um outlier em questão de volume"
   ]
  },
  {
   "cell_type": "code",
   "execution_count": 13,
   "metadata": {},
   "outputs": [
    {
     "data": {
      "application/vnd.plotly.v1+json": {
       "config": {
        "plotlyServerURL": "https://plot.ly"
       },
       "data": [
        {
         "alignmentgroup": "True",
         "hovertemplate": "Bolsa=%{x}<br>Média Volume=%{y}<extra></extra>",
         "legendgroup": "",
         "marker": {
          "color": "#636efa"
         },
         "name": "",
         "notched": false,
         "offsetgroup": "",
         "orientation": "v",
         "showlegend": false,
         "type": "box",
         "x": [
          "NMS",
          "NMS",
          "NMS",
          "NMS",
          "NMS",
          "NYQ",
          "NYQ",
          "NMS",
          "NMS",
          "NMS",
          "NMS",
          "NYQ",
          "NMS",
          "NMS",
          "NMS",
          "NMS",
          "NGM",
          "NCM",
          "NMS",
          "NGM",
          "NYQ",
          "NGM",
          "NMS",
          "NGM",
          "NYQ",
          "NYQ",
          "NCM",
          "NCM",
          "NYQ",
          "NMS",
          "NGM",
          "NYQ",
          "NMS",
          "NMS",
          "NYQ",
          "NGM",
          "NMS",
          "NMS",
          "NCM",
          "NMS",
          "NCM",
          "NYQ",
          "NMS",
          "NMS",
          "NMS",
          "NYQ",
          "NGM",
          "NMS",
          "NYQ",
          "NYQ",
          "NYQ",
          "NYQ",
          "NYQ",
          "NMS",
          "NMS",
          "NMS",
          "NMS",
          "NMS",
          "NMS",
          "NGM",
          "NCM",
          "NMS",
          "NYQ",
          "NMS",
          "NMS",
          "NMS",
          "NMS",
          "NYQ",
          "NYQ",
          "NMS",
          "NYQ",
          "NMS",
          "NMS",
          "NMS",
          "NMS",
          "NMS",
          "NYQ",
          "NMS",
          "NYQ",
          "NMS",
          "NGM",
          "NYQ",
          "NYQ",
          "NMS",
          "NMS",
          "NMS",
          "NMS",
          "NMS",
          "NMS",
          "NMS",
          "NGM",
          "NMS",
          "NMS",
          "NGM",
          "NYQ",
          "NYQ",
          "NMS",
          "NMS",
          "NMS",
          "NGM",
          "NMS",
          "NCM",
          "NMS",
          "NGM",
          "NCM",
          "NMS",
          "NMS",
          "NMS",
          "NYQ",
          "NCM",
          "NMS",
          "NYQ",
          "NYQ",
          "NMS",
          "NYQ",
          "NGM",
          "NYQ",
          "NGM",
          "NMS",
          "NMS",
          "NCM",
          "NGM",
          "NMS",
          "ASE",
          "NMS",
          "NCM",
          "NMS",
          "NGM",
          "NCM",
          "NMS",
          "NYQ",
          "NMS",
          "NMS",
          "NMS",
          "NMS",
          "NMS",
          "NYQ",
          "NMS",
          "NYQ",
          "NMS",
          "NMS",
          "NMS",
          "NGM",
          "NGM",
          "NMS",
          "NGM",
          "NMS",
          "NGM",
          "NCM",
          "NMS",
          "NGM",
          "NMS",
          "NMS",
          "NGM",
          "NMS",
          "NYQ",
          "NMS",
          "NGM",
          "NMS",
          "NMS",
          "NGM",
          "NYQ",
          "NGM",
          "NMS",
          "NMS",
          "NMS",
          "NMS",
          "NMS",
          "NGM",
          "NMS",
          "NMS",
          "NGM",
          "NMS",
          "NGM",
          "NGM",
          "NMS",
          "NCM",
          "NCM",
          "NMS",
          "NMS",
          "NMS",
          "NYQ",
          "NMS",
          "NYQ",
          "NCM",
          "NGM",
          "NGM",
          "NMS",
          "NMS",
          "NGM",
          "NMS",
          "NGM",
          "NMS",
          "NMS",
          "NMS",
          "ASE",
          "NYQ",
          "NMS",
          "NYQ",
          "NMS",
          "NYQ",
          "NMS",
          "NCM",
          "NCM",
          "NGM",
          "NMS",
          "NMS",
          "NMS",
          "NCM",
          "NMS",
          "NMS",
          "NMS",
          "NMS",
          "NYQ",
          "NYQ",
          "NMS",
          "NYQ",
          "NGM",
          "NGM",
          "NGM",
          "NMS",
          "NCM",
          "NYQ",
          "NYQ",
          "NMS",
          "NMS",
          "NMS",
          "NMS",
          "NMS",
          "NMS",
          "NYQ",
          "NMS",
          "NCM",
          "NGM",
          "NMS",
          "NMS",
          "NMS",
          "NGM",
          "PNK",
          "NYQ",
          "NGM",
          "NYQ",
          "NMS",
          "NGM",
          "NYQ",
          "NMS",
          "NCM",
          "NMS",
          "NMS",
          "NYQ",
          "NCM",
          "NYQ",
          "NYQ",
          "NYQ",
          "NMS",
          "NYQ",
          "NYQ",
          "NCM",
          "NYQ",
          "NGM",
          "NGM",
          "NYQ",
          "NCM",
          "NGM",
          "NMS",
          "NGM",
          "NMS",
          "NMS",
          "NYQ",
          "NMS",
          "NYQ",
          "NMS",
          "NMS",
          "NCM",
          "NYQ",
          "NCM",
          "NCM",
          "NCM",
          "NYQ",
          "NCM",
          "NMS",
          "NCM",
          "NMS",
          "NCM",
          "NYQ",
          "NMS",
          "NCM",
          "NCM",
          "NCM",
          "NCM",
          "ASE",
          "OEM",
          "NGM",
          "FRA",
          "SAO"
         ],
         "x0": " ",
         "xaxis": "x",
         "y": [
          457778352.7060783,
          65077235.80349708,
          39166387.84346378,
          24650118.151540384,
          19732135.803497087,
          12877883.01415487,
          11694234.695253955,
          10478011.323896753,
          9476764.363030808,
          9137128.64279767,
          7049470.940882598,
          7036302.2323064115,
          6970481.931723564,
          5175092.42298085,
          5152494.088259784,
          5060092.42298085,
          4913647.293921732,
          4744282.546201232,
          4283903.580349709,
          3892537.4687760198,
          3817049.634273772,
          3409099.5836802665,
          3342694.504579517,
          3209869.941715237,
          3142986.0116569526,
          3094738.4679433806,
          3035919.317235637,
          3014636.885928393,
          2983465.2789342217,
          2803729.190421893,
          2771493.5886761034,
          2725207.9100749376,
          2721176.595744681,
          2645232.7227310576,
          2626479.7668609493,
          2591175.7909215954,
          2432243.880099917,
          2383829.8917568694,
          2235327.726894255,
          2210248.0220791167,
          2132066.1948376354,
          2082964.3630308076,
          2073113.572023314,
          2041383.5970024979,
          1949615.06147541,
          1908247.3771856786,
          1905577.7777777778,
          1863210.12145749,
          1861328.9292256453,
          1853941.7152373022,
          1827436.4696086594,
          1778035.9700249792,
          1762367.534883721,
          1710448.3763530392,
          1693242.4646128227,
          1693110.324729392,
          1675400.24979184,
          1642985.8451290592,
          1637060.3363006923,
          1627378.8509575354,
          1626299.9167360533,
          1572723.2306411325,
          1538176.6028309742,
          1503763.0308076602,
          1482295.420482931,
          1479006.661115737,
          1420346.0606060605,
          1417307.0774354704,
          1395177.7685262281,
          1363399.6669442132,
          1345834.054954205,
          1341282.9308909243,
          1340127.8934221482,
          1333694.7543713572,
          1327291.1447084234,
          1313917.235636969,
          1298243.1307243963,
          1255555.4088259784,
          1249960.532889259,
          1236408.076602831,
          1226511.240632806,
          1221303.8910505837,
          1204470.2747710242,
          1189088.888888889,
          1172671.4717741935,
          1164080.3497085762,
          1154828.1117696867,
          1149948.4596169859,
          1135791.4209115282,
          1129475.7701915072,
          1128097.418817652,
          1123317.6519567028,
          1095881.9944598337,
          1084669.192339717,
          1071235.8867610325,
          1062263.114071607,
          1054688.3430474605,
          1054571.6069941716,
          1040386.9275603663,
          1008124.4840525328,
          1001538.7177352207,
          992709.2422980849,
          974988.3430474604,
          946106.910907577,
          944687.5104079933,
          939813.1449631449,
          939173.4919286321,
          935931.723563697,
          934307.9933388843,
          919624.85928393,
          917187.7133105802,
          893806.7443796836,
          891970.607826811,
          888577.0938446014,
          877415.4291224687,
          826081.848459617,
          817706.5778517901,
          817602.4979184014,
          814165.7993338885,
          808977.6852622814,
          802243.7260616153,
          796418.151540383,
          780974.9484536082,
          777138.8009991674,
          767324.8959200666,
          765941.1323896752,
          764418.6511240633,
          762330.7621671258,
          754278.0183180682,
          753389.7585345545,
          751998.0849292256,
          750734.1382181515,
          747847.6269775188,
          740856.8692756037,
          736976.5195670275,
          731262.0111731844,
          726710.0749375521,
          717370.9408825978,
          714920.6172839506,
          713627.5943396227,
          709633.721898418,
          690325.3955037469,
          675873.0224812656,
          668612.1565362199,
          639512.0732722731,
          638908.2431307244,
          630095.8368026644,
          628139.4671107411,
          613549.542048293,
          610762.9475437136,
          610121.9816819318,
          604413.6552872607,
          602422.9808492922,
          601875.3535353536,
          598595.8368026644,
          595946.7762557077,
          584730.1415487094,
          583902.3313905079,
          572565.5555555555,
          568138.9432485322,
          565999.5024875621,
          565167.443796836,
          561185.7290589452,
          557534.3880099917,
          552518.73438801,
          552181.6835970025,
          550324.8031496063,
          546971.5237302248,
          543441.9517069109,
          542992.7456382002,
          532017.9019384264,
          521536.4423076923,
          494970.60782681097,
          494623.77358490566,
          493647.2106577852,
          492729.6419650291,
          491957.0832639467,
          485782.66884531593,
          484974.2714404663,
          472914.8588410104,
          472043.96336386347,
          467472.02331390505,
          463916.1496350365,
          458794.42131557036,
          457798.3072033898,
          454292.0345489443,
          449613.7380191693,
          448544.4216990788,
          446410.5745212323,
          442776.33365664404,
          440762.53122398,
          434302.6837806301,
          432175.3638253638,
          429583.2639467111,
          427048.2098251457,
          421642.671009772,
          416400.0832639467,
          410185.6786011657,
          409219.81681931723,
          401754.7699214366,
          396510.15820149874,
          393705.9117402165,
          392869.35886761034,
          382801.7085761865,
          380409.5753538718,
          379816.0699417152,
          370521.2822796082,
          369215.9034138218,
          365000.33305578685,
          351362.2395833333,
          350026.77345537755,
          345896.9279661017,
          345485.51207327226,
          340822.31473771855,
          329734.97085761867,
          324856.77018633543,
          322619.73355537053,
          315051.95670274773,
          312810.9791840133,
          311672.3413821815,
          303361.2822647793,
          298685.481265612,
          292735.4704412989,
          291163.8634471274,
          288911.82348043297,
          288300.7493755204,
          285195.25395503745,
          279914.57119067444,
          278928.80932556203,
          275817.37160120846,
          270743.7135720233,
          268416.68331668334,
          258974.87636003958,
          256988.42482100238,
          250885.5120732723,
          231282.36057068742,
          227154.28809325563,
          225121.9755826859,
          224061.59825327512,
          223428.80932556203,
          220390.42464612823,
          219914.82098251456,
          215798.27027027027,
          213935.36155202822,
          213540.38301415488,
          209129.89175686927,
          203539.50041631973,
          202982.93089092424,
          199372.10657785178,
          192877.3522064946,
          188111.74285714285,
          187992.17318900916,
          186167.44379683596,
          175998.83430474604,
          165564.94597839136,
          164699.72826086957,
          154560.61615320566,
          150323.91732283463,
          146173.27227310574,
          146026.28032345013,
          143664.25702811245,
          136154.01891252954,
          131629.14571190675,
          121380.13513513513,
          119382.87760199833,
          112704.68003820439,
          112000.1415487094,
          109555.31088082901,
          106718.25657894737,
          99938.96752706078,
          97591.09075770191,
          96165.86178184846,
          93511.5984015984,
          81485.91323210413,
          77439.13405495421,
          76879.41465445462,
          71002.85355648535,
          67404.76769358867,
          66818.23480432972,
          63887.75770191507,
          63484.9292256453,
          61235.00975081257,
          57644.79600333056,
          53662.53122398002,
          48144.379683597006,
          46431.80682764363,
          41238.603663613656,
          38482.25145711907,
          30954.392173189008,
          7617.447925486876,
          3426.6444629475436,
          2437.5886761032475,
          2409.285714285714,
          10.007377049180327,
          3.363876651982379
         ],
         "y0": " ",
         "yaxis": "y"
        }
       ],
       "layout": {
        "boxmode": "group",
        "legend": {
         "tracegroupgap": 0
        },
        "template": {
         "data": {
          "bar": [
           {
            "error_x": {
             "color": "#f2f5fa"
            },
            "error_y": {
             "color": "#f2f5fa"
            },
            "marker": {
             "line": {
              "color": "rgb(17,17,17)",
              "width": 0.5
             },
             "pattern": {
              "fillmode": "overlay",
              "size": 10,
              "solidity": 0.2
             }
            },
            "type": "bar"
           }
          ],
          "barpolar": [
           {
            "marker": {
             "line": {
              "color": "rgb(17,17,17)",
              "width": 0.5
             },
             "pattern": {
              "fillmode": "overlay",
              "size": 10,
              "solidity": 0.2
             }
            },
            "type": "barpolar"
           }
          ],
          "carpet": [
           {
            "aaxis": {
             "endlinecolor": "#A2B1C6",
             "gridcolor": "#506784",
             "linecolor": "#506784",
             "minorgridcolor": "#506784",
             "startlinecolor": "#A2B1C6"
            },
            "baxis": {
             "endlinecolor": "#A2B1C6",
             "gridcolor": "#506784",
             "linecolor": "#506784",
             "minorgridcolor": "#506784",
             "startlinecolor": "#A2B1C6"
            },
            "type": "carpet"
           }
          ],
          "choropleth": [
           {
            "colorbar": {
             "outlinewidth": 0,
             "ticks": ""
            },
            "type": "choropleth"
           }
          ],
          "contour": [
           {
            "colorbar": {
             "outlinewidth": 0,
             "ticks": ""
            },
            "colorscale": [
             [
              0,
              "#0d0887"
             ],
             [
              0.1111111111111111,
              "#46039f"
             ],
             [
              0.2222222222222222,
              "#7201a8"
             ],
             [
              0.3333333333333333,
              "#9c179e"
             ],
             [
              0.4444444444444444,
              "#bd3786"
             ],
             [
              0.5555555555555556,
              "#d8576b"
             ],
             [
              0.6666666666666666,
              "#ed7953"
             ],
             [
              0.7777777777777778,
              "#fb9f3a"
             ],
             [
              0.8888888888888888,
              "#fdca26"
             ],
             [
              1,
              "#f0f921"
             ]
            ],
            "type": "contour"
           }
          ],
          "contourcarpet": [
           {
            "colorbar": {
             "outlinewidth": 0,
             "ticks": ""
            },
            "type": "contourcarpet"
           }
          ],
          "heatmap": [
           {
            "colorbar": {
             "outlinewidth": 0,
             "ticks": ""
            },
            "colorscale": [
             [
              0,
              "#0d0887"
             ],
             [
              0.1111111111111111,
              "#46039f"
             ],
             [
              0.2222222222222222,
              "#7201a8"
             ],
             [
              0.3333333333333333,
              "#9c179e"
             ],
             [
              0.4444444444444444,
              "#bd3786"
             ],
             [
              0.5555555555555556,
              "#d8576b"
             ],
             [
              0.6666666666666666,
              "#ed7953"
             ],
             [
              0.7777777777777778,
              "#fb9f3a"
             ],
             [
              0.8888888888888888,
              "#fdca26"
             ],
             [
              1,
              "#f0f921"
             ]
            ],
            "type": "heatmap"
           }
          ],
          "heatmapgl": [
           {
            "colorbar": {
             "outlinewidth": 0,
             "ticks": ""
            },
            "colorscale": [
             [
              0,
              "#0d0887"
             ],
             [
              0.1111111111111111,
              "#46039f"
             ],
             [
              0.2222222222222222,
              "#7201a8"
             ],
             [
              0.3333333333333333,
              "#9c179e"
             ],
             [
              0.4444444444444444,
              "#bd3786"
             ],
             [
              0.5555555555555556,
              "#d8576b"
             ],
             [
              0.6666666666666666,
              "#ed7953"
             ],
             [
              0.7777777777777778,
              "#fb9f3a"
             ],
             [
              0.8888888888888888,
              "#fdca26"
             ],
             [
              1,
              "#f0f921"
             ]
            ],
            "type": "heatmapgl"
           }
          ],
          "histogram": [
           {
            "marker": {
             "pattern": {
              "fillmode": "overlay",
              "size": 10,
              "solidity": 0.2
             }
            },
            "type": "histogram"
           }
          ],
          "histogram2d": [
           {
            "colorbar": {
             "outlinewidth": 0,
             "ticks": ""
            },
            "colorscale": [
             [
              0,
              "#0d0887"
             ],
             [
              0.1111111111111111,
              "#46039f"
             ],
             [
              0.2222222222222222,
              "#7201a8"
             ],
             [
              0.3333333333333333,
              "#9c179e"
             ],
             [
              0.4444444444444444,
              "#bd3786"
             ],
             [
              0.5555555555555556,
              "#d8576b"
             ],
             [
              0.6666666666666666,
              "#ed7953"
             ],
             [
              0.7777777777777778,
              "#fb9f3a"
             ],
             [
              0.8888888888888888,
              "#fdca26"
             ],
             [
              1,
              "#f0f921"
             ]
            ],
            "type": "histogram2d"
           }
          ],
          "histogram2dcontour": [
           {
            "colorbar": {
             "outlinewidth": 0,
             "ticks": ""
            },
            "colorscale": [
             [
              0,
              "#0d0887"
             ],
             [
              0.1111111111111111,
              "#46039f"
             ],
             [
              0.2222222222222222,
              "#7201a8"
             ],
             [
              0.3333333333333333,
              "#9c179e"
             ],
             [
              0.4444444444444444,
              "#bd3786"
             ],
             [
              0.5555555555555556,
              "#d8576b"
             ],
             [
              0.6666666666666666,
              "#ed7953"
             ],
             [
              0.7777777777777778,
              "#fb9f3a"
             ],
             [
              0.8888888888888888,
              "#fdca26"
             ],
             [
              1,
              "#f0f921"
             ]
            ],
            "type": "histogram2dcontour"
           }
          ],
          "mesh3d": [
           {
            "colorbar": {
             "outlinewidth": 0,
             "ticks": ""
            },
            "type": "mesh3d"
           }
          ],
          "parcoords": [
           {
            "line": {
             "colorbar": {
              "outlinewidth": 0,
              "ticks": ""
             }
            },
            "type": "parcoords"
           }
          ],
          "pie": [
           {
            "automargin": true,
            "type": "pie"
           }
          ],
          "scatter": [
           {
            "marker": {
             "line": {
              "color": "#283442"
             }
            },
            "type": "scatter"
           }
          ],
          "scatter3d": [
           {
            "line": {
             "colorbar": {
              "outlinewidth": 0,
              "ticks": ""
             }
            },
            "marker": {
             "colorbar": {
              "outlinewidth": 0,
              "ticks": ""
             }
            },
            "type": "scatter3d"
           }
          ],
          "scattercarpet": [
           {
            "marker": {
             "colorbar": {
              "outlinewidth": 0,
              "ticks": ""
             }
            },
            "type": "scattercarpet"
           }
          ],
          "scattergeo": [
           {
            "marker": {
             "colorbar": {
              "outlinewidth": 0,
              "ticks": ""
             }
            },
            "type": "scattergeo"
           }
          ],
          "scattergl": [
           {
            "marker": {
             "line": {
              "color": "#283442"
             }
            },
            "type": "scattergl"
           }
          ],
          "scattermapbox": [
           {
            "marker": {
             "colorbar": {
              "outlinewidth": 0,
              "ticks": ""
             }
            },
            "type": "scattermapbox"
           }
          ],
          "scatterpolar": [
           {
            "marker": {
             "colorbar": {
              "outlinewidth": 0,
              "ticks": ""
             }
            },
            "type": "scatterpolar"
           }
          ],
          "scatterpolargl": [
           {
            "marker": {
             "colorbar": {
              "outlinewidth": 0,
              "ticks": ""
             }
            },
            "type": "scatterpolargl"
           }
          ],
          "scatterternary": [
           {
            "marker": {
             "colorbar": {
              "outlinewidth": 0,
              "ticks": ""
             }
            },
            "type": "scatterternary"
           }
          ],
          "surface": [
           {
            "colorbar": {
             "outlinewidth": 0,
             "ticks": ""
            },
            "colorscale": [
             [
              0,
              "#0d0887"
             ],
             [
              0.1111111111111111,
              "#46039f"
             ],
             [
              0.2222222222222222,
              "#7201a8"
             ],
             [
              0.3333333333333333,
              "#9c179e"
             ],
             [
              0.4444444444444444,
              "#bd3786"
             ],
             [
              0.5555555555555556,
              "#d8576b"
             ],
             [
              0.6666666666666666,
              "#ed7953"
             ],
             [
              0.7777777777777778,
              "#fb9f3a"
             ],
             [
              0.8888888888888888,
              "#fdca26"
             ],
             [
              1,
              "#f0f921"
             ]
            ],
            "type": "surface"
           }
          ],
          "table": [
           {
            "cells": {
             "fill": {
              "color": "#506784"
             },
             "line": {
              "color": "rgb(17,17,17)"
             }
            },
            "header": {
             "fill": {
              "color": "#2a3f5f"
             },
             "line": {
              "color": "rgb(17,17,17)"
             }
            },
            "type": "table"
           }
          ]
         },
         "layout": {
          "annotationdefaults": {
           "arrowcolor": "#f2f5fa",
           "arrowhead": 0,
           "arrowwidth": 1
          },
          "autotypenumbers": "strict",
          "coloraxis": {
           "colorbar": {
            "outlinewidth": 0,
            "ticks": ""
           }
          },
          "colorscale": {
           "diverging": [
            [
             0,
             "#8e0152"
            ],
            [
             0.1,
             "#c51b7d"
            ],
            [
             0.2,
             "#de77ae"
            ],
            [
             0.3,
             "#f1b6da"
            ],
            [
             0.4,
             "#fde0ef"
            ],
            [
             0.5,
             "#f7f7f7"
            ],
            [
             0.6,
             "#e6f5d0"
            ],
            [
             0.7,
             "#b8e186"
            ],
            [
             0.8,
             "#7fbc41"
            ],
            [
             0.9,
             "#4d9221"
            ],
            [
             1,
             "#276419"
            ]
           ],
           "sequential": [
            [
             0,
             "#0d0887"
            ],
            [
             0.1111111111111111,
             "#46039f"
            ],
            [
             0.2222222222222222,
             "#7201a8"
            ],
            [
             0.3333333333333333,
             "#9c179e"
            ],
            [
             0.4444444444444444,
             "#bd3786"
            ],
            [
             0.5555555555555556,
             "#d8576b"
            ],
            [
             0.6666666666666666,
             "#ed7953"
            ],
            [
             0.7777777777777778,
             "#fb9f3a"
            ],
            [
             0.8888888888888888,
             "#fdca26"
            ],
            [
             1,
             "#f0f921"
            ]
           ],
           "sequentialminus": [
            [
             0,
             "#0d0887"
            ],
            [
             0.1111111111111111,
             "#46039f"
            ],
            [
             0.2222222222222222,
             "#7201a8"
            ],
            [
             0.3333333333333333,
             "#9c179e"
            ],
            [
             0.4444444444444444,
             "#bd3786"
            ],
            [
             0.5555555555555556,
             "#d8576b"
            ],
            [
             0.6666666666666666,
             "#ed7953"
            ],
            [
             0.7777777777777778,
             "#fb9f3a"
            ],
            [
             0.8888888888888888,
             "#fdca26"
            ],
            [
             1,
             "#f0f921"
            ]
           ]
          },
          "colorway": [
           "#636efa",
           "#EF553B",
           "#00cc96",
           "#ab63fa",
           "#FFA15A",
           "#19d3f3",
           "#FF6692",
           "#B6E880",
           "#FF97FF",
           "#FECB52"
          ],
          "font": {
           "color": "#f2f5fa"
          },
          "geo": {
           "bgcolor": "rgb(17,17,17)",
           "lakecolor": "rgb(17,17,17)",
           "landcolor": "rgb(17,17,17)",
           "showlakes": true,
           "showland": true,
           "subunitcolor": "#506784"
          },
          "hoverlabel": {
           "align": "left"
          },
          "hovermode": "closest",
          "mapbox": {
           "style": "dark"
          },
          "paper_bgcolor": "rgb(17,17,17)",
          "plot_bgcolor": "rgb(17,17,17)",
          "polar": {
           "angularaxis": {
            "gridcolor": "#506784",
            "linecolor": "#506784",
            "ticks": ""
           },
           "bgcolor": "rgb(17,17,17)",
           "radialaxis": {
            "gridcolor": "#506784",
            "linecolor": "#506784",
            "ticks": ""
           }
          },
          "scene": {
           "xaxis": {
            "backgroundcolor": "rgb(17,17,17)",
            "gridcolor": "#506784",
            "gridwidth": 2,
            "linecolor": "#506784",
            "showbackground": true,
            "ticks": "",
            "zerolinecolor": "#C8D4E3"
           },
           "yaxis": {
            "backgroundcolor": "rgb(17,17,17)",
            "gridcolor": "#506784",
            "gridwidth": 2,
            "linecolor": "#506784",
            "showbackground": true,
            "ticks": "",
            "zerolinecolor": "#C8D4E3"
           },
           "zaxis": {
            "backgroundcolor": "rgb(17,17,17)",
            "gridcolor": "#506784",
            "gridwidth": 2,
            "linecolor": "#506784",
            "showbackground": true,
            "ticks": "",
            "zerolinecolor": "#C8D4E3"
           }
          },
          "shapedefaults": {
           "line": {
            "color": "#f2f5fa"
           }
          },
          "sliderdefaults": {
           "bgcolor": "#C8D4E3",
           "bordercolor": "rgb(17,17,17)",
           "borderwidth": 1,
           "tickwidth": 0
          },
          "ternary": {
           "aaxis": {
            "gridcolor": "#506784",
            "linecolor": "#506784",
            "ticks": ""
           },
           "baxis": {
            "gridcolor": "#506784",
            "linecolor": "#506784",
            "ticks": ""
           },
           "bgcolor": "rgb(17,17,17)",
           "caxis": {
            "gridcolor": "#506784",
            "linecolor": "#506784",
            "ticks": ""
           }
          },
          "title": {
           "x": 0.05
          },
          "updatemenudefaults": {
           "bgcolor": "#506784",
           "borderwidth": 0
          },
          "xaxis": {
           "automargin": true,
           "gridcolor": "#283442",
           "linecolor": "#506784",
           "ticks": "",
           "title": {
            "standoff": 15
           },
           "zerolinecolor": "#283442",
           "zerolinewidth": 2
          },
          "yaxis": {
           "automargin": true,
           "gridcolor": "#283442",
           "linecolor": "#506784",
           "ticks": "",
           "title": {
            "standoff": 15
           },
           "zerolinecolor": "#283442",
           "zerolinewidth": 2
          }
         }
        },
        "title": {
         "text": "Box Plot do Volume Médio por Bolsa"
        },
        "xaxis": {
         "anchor": "y",
         "domain": [
          0,
          1
         ],
         "title": {
          "text": "Bolsa"
         }
        },
        "yaxis": {
         "anchor": "x",
         "domain": [
          0,
          1
         ],
         "title": {
          "text": "Média Volume"
         }
        }
       }
      }
     },
     "metadata": {},
     "output_type": "display_data"
    }
   ],
   "source": [
    "fig = px.box(vol_med_ref, x=\"Bolsa\", y=\"Média Volume\", title=\"Box Plot do Volume Médio por Bolsa\", template=\"plotly_dark\")\n",
    "fig.show()"
   ]
  },
  {
   "cell_type": "markdown",
   "metadata": {},
   "source": [
    "O que afeta, inclusive, o comportamento da média de volume da bolsa respectiva (NMS)."
   ]
  },
  {
   "cell_type": "markdown",
   "metadata": {},
   "source": [
    "## 3. Escolha dos ativos"
   ]
  },
  {
   "cell_type": "code",
   "execution_count": 14,
   "metadata": {},
   "outputs": [
    {
     "data": {
      "text/html": [
       "<div>\n",
       "<style scoped>\n",
       "    .dataframe tbody tr th:only-of-type {\n",
       "        vertical-align: middle;\n",
       "    }\n",
       "\n",
       "    .dataframe tbody tr th {\n",
       "        vertical-align: top;\n",
       "    }\n",
       "\n",
       "    .dataframe thead th {\n",
       "        text-align: right;\n",
       "    }\n",
       "</style>\n",
       "<table border=\"1\" class=\"dataframe\">\n",
       "  <thead>\n",
       "    <tr style=\"text-align: right;\">\n",
       "      <th></th>\n",
       "      <th>Ticker</th>\n",
       "      <th>MainTicker</th>\n",
       "      <th>Bolsa</th>\n",
       "      <th>Nome</th>\n",
       "      <th>Ponderação</th>\n",
       "      <th>Ações</th>\n",
       "      <th>Preço</th>\n",
       "      <th>Beta Corrigido</th>\n",
       "      <th>Beta</th>\n",
       "      <th>YFTicker</th>\n",
       "      <th>SetorEconomico</th>\n",
       "      <th>Industria</th>\n",
       "      <th>NomeCompletoParaAuditoria</th>\n",
       "    </tr>\n",
       "  </thead>\n",
       "  <tbody>\n",
       "    <tr>\n",
       "      <th>0</th>\n",
       "      <td>ISMT IS Equity</td>\n",
       "      <td>ISMT</td>\n",
       "      <td>IS</td>\n",
       "      <td>ISMT Ltd</td>\n",
       "      <td>--</td>\n",
       "      <td>56.490</td>\n",
       "      <td>--</td>\n",
       "      <td>1.260681</td>\n",
       "      <td>1.26066</td>\n",
       "      <td>0</td>\n",
       "      <td>0</td>\n",
       "      <td>0</td>\n",
       "      <td>0</td>\n",
       "    </tr>\n",
       "    <tr>\n",
       "      <th>1</th>\n",
       "      <td>TCNSBR IS Equity</td>\n",
       "      <td>TCNSBR</td>\n",
       "      <td>IS</td>\n",
       "      <td>TCNS Clothing Co Ltd</td>\n",
       "      <td>--</td>\n",
       "      <td>12.980</td>\n",
       "      <td>--</td>\n",
       "      <td>0.685257</td>\n",
       "      <td>0.685245</td>\n",
       "      <td>TCNSBRANDS.BO</td>\n",
       "      <td>Consumer Cyclical</td>\n",
       "      <td>Apparel Manufacturing</td>\n",
       "      <td>TCNS Clothing Co. Limited</td>\n",
       "    </tr>\n",
       "    <tr>\n",
       "      <th>2</th>\n",
       "      <td>AAPL UW Equity</td>\n",
       "      <td>AAPL</td>\n",
       "      <td>UW</td>\n",
       "      <td>Apple Inc</td>\n",
       "      <td>3.748542</td>\n",
       "      <td>14793.489</td>\n",
       "      <td>226.21</td>\n",
       "      <td>1.206749</td>\n",
       "      <td>1.206733</td>\n",
       "      <td>AAPL</td>\n",
       "      <td>Technology</td>\n",
       "      <td>Consumer Electronics</td>\n",
       "      <td>Apple Inc.</td>\n",
       "    </tr>\n",
       "    <tr>\n",
       "      <th>3</th>\n",
       "      <td>MSFT UW Equity</td>\n",
       "      <td>MSFT</td>\n",
       "      <td>UW</td>\n",
       "      <td>Microsoft Corp</td>\n",
       "      <td>3.498732</td>\n",
       "      <td>7424.523</td>\n",
       "      <td>420.69</td>\n",
       "      <td>1.13058</td>\n",
       "      <td>1.130565</td>\n",
       "      <td>MSFT</td>\n",
       "      <td>Technology</td>\n",
       "      <td>Software—Infrastructure</td>\n",
       "      <td>Microsoft Corporation</td>\n",
       "    </tr>\n",
       "    <tr>\n",
       "      <th>4</th>\n",
       "      <td>NVDA UW Equity</td>\n",
       "      <td>NVDA</td>\n",
       "      <td>UW</td>\n",
       "      <td>NVIDIA Corp</td>\n",
       "      <td>3.096586</td>\n",
       "      <td>23627.475</td>\n",
       "      <td>117</td>\n",
       "      <td>2.221154</td>\n",
       "      <td>2.221128</td>\n",
       "      <td>NVDA</td>\n",
       "      <td>Technology</td>\n",
       "      <td>Semiconductors</td>\n",
       "      <td>NVIDIA Corporation</td>\n",
       "    </tr>\n",
       "  </tbody>\n",
       "</table>\n",
       "</div>"
      ],
      "text/plain": [
       "             Ticker MainTicker Bolsa                  Nome Ponderação  \\\n",
       "0    ISMT IS Equity       ISMT    IS              ISMT Ltd         --   \n",
       "1  TCNSBR IS Equity     TCNSBR    IS  TCNS Clothing Co Ltd         --   \n",
       "2    AAPL UW Equity       AAPL    UW             Apple Inc   3.748542   \n",
       "3    MSFT UW Equity       MSFT    UW        Microsoft Corp   3.498732   \n",
       "4    NVDA UW Equity       NVDA    UW           NVIDIA Corp   3.096586   \n",
       "\n",
       "       Ações   Preço Beta Corrigido      Beta       YFTicker  \\\n",
       "0     56.490      --       1.260681   1.26066              0   \n",
       "1     12.980      --       0.685257  0.685245  TCNSBRANDS.BO   \n",
       "2  14793.489  226.21       1.206749  1.206733           AAPL   \n",
       "3   7424.523  420.69        1.13058  1.130565           MSFT   \n",
       "4  23627.475     117       2.221154  2.221128           NVDA   \n",
       "\n",
       "      SetorEconomico                Industria  NomeCompletoParaAuditoria  \n",
       "0                  0                        0                          0  \n",
       "1  Consumer Cyclical    Apparel Manufacturing  TCNS Clothing Co. Limited  \n",
       "2         Technology     Consumer Electronics                 Apple Inc.  \n",
       "3         Technology  Software—Infrastructure      Microsoft Corporation  \n",
       "4         Technology           Semiconductors         NVIDIA Corporation  "
      ]
     },
     "execution_count": 14,
     "metadata": {},
     "output_type": "execute_result"
    }
   ],
   "source": [
    "betas = pd.read_excel(r'data\\ativos_selecionados\\Ativos x Beta(1).xlsx', sheet_name='WLS COMPLETO')\n",
    "betas.head()"
   ]
  },
  {
   "cell_type": "code",
   "execution_count": 15,
   "metadata": {},
   "outputs": [
    {
     "data": {
      "text/html": [
       "<div>\n",
       "<style scoped>\n",
       "    .dataframe tbody tr th:only-of-type {\n",
       "        vertical-align: middle;\n",
       "    }\n",
       "\n",
       "    .dataframe tbody tr th {\n",
       "        vertical-align: top;\n",
       "    }\n",
       "\n",
       "    .dataframe thead th {\n",
       "        text-align: right;\n",
       "    }\n",
       "</style>\n",
       "<table border=\"1\" class=\"dataframe\">\n",
       "  <thead>\n",
       "    <tr style=\"text-align: right;\">\n",
       "      <th></th>\n",
       "      <th>Ticker</th>\n",
       "      <th>MainTicker</th>\n",
       "      <th>Bolsa</th>\n",
       "      <th>Nome</th>\n",
       "      <th>Ponderação</th>\n",
       "      <th>Ações</th>\n",
       "      <th>Preço</th>\n",
       "      <th>Beta Corrigido</th>\n",
       "      <th>Beta</th>\n",
       "      <th>YFTicker</th>\n",
       "      <th>SetorEconomico</th>\n",
       "      <th>Industria</th>\n",
       "      <th>NomeCompletoParaAuditoria</th>\n",
       "    </tr>\n",
       "  </thead>\n",
       "  <tbody>\n",
       "    <tr>\n",
       "      <th>2871</th>\n",
       "      <td>TGTX UR Equity</td>\n",
       "      <td>TGTX</td>\n",
       "      <td>UR</td>\n",
       "      <td>TG Therapeutics Inc</td>\n",
       "      <td>0.003573</td>\n",
       "      <td>139.734</td>\n",
       "      <td>22.83</td>\n",
       "      <td>3.267937</td>\n",
       "      <td>3.267901</td>\n",
       "      <td>TGTX</td>\n",
       "      <td>Healthcare</td>\n",
       "      <td>Biotechnology</td>\n",
       "      <td>TG Therapeutics, Inc.</td>\n",
       "    </tr>\n",
       "    <tr>\n",
       "      <th>4651</th>\n",
       "      <td>RXRX UW Equity</td>\n",
       "      <td>RXRX</td>\n",
       "      <td>UW</td>\n",
       "      <td>Recursion Pharmaceuticals Inc</td>\n",
       "      <td>0.001555</td>\n",
       "      <td>224.990</td>\n",
       "      <td>6.17</td>\n",
       "      <td>3.239381</td>\n",
       "      <td>3.239343</td>\n",
       "      <td>RXRX</td>\n",
       "      <td>Healthcare</td>\n",
       "      <td>Biotechnology</td>\n",
       "      <td>Recursion Pharmaceuticals, Inc.</td>\n",
       "    </tr>\n",
       "    <tr>\n",
       "      <th>3006</th>\n",
       "      <td>SITM UQ Equity</td>\n",
       "      <td>SITM</td>\n",
       "      <td>UQ</td>\n",
       "      <td>SiTime Corp</td>\n",
       "      <td>0.003341</td>\n",
       "      <td>17.728</td>\n",
       "      <td>168.25</td>\n",
       "      <td>2.86347</td>\n",
       "      <td>2.863438</td>\n",
       "      <td>SITM</td>\n",
       "      <td>Technology</td>\n",
       "      <td>Semiconductors</td>\n",
       "      <td>SiTime Corporation</td>\n",
       "    </tr>\n",
       "    <tr>\n",
       "      <th>6039</th>\n",
       "      <td>LMND UN Equity</td>\n",
       "      <td>LMND</td>\n",
       "      <td>UN</td>\n",
       "      <td>Lemonade Inc</td>\n",
       "      <td>0.000947</td>\n",
       "      <td>52.360</td>\n",
       "      <td>16.15</td>\n",
       "      <td>2.835503</td>\n",
       "      <td>2.835469</td>\n",
       "      <td>LMND</td>\n",
       "      <td>Financial Services</td>\n",
       "      <td>Insurance—Property &amp; Casualty</td>\n",
       "      <td>Lemonade, Inc.</td>\n",
       "    </tr>\n",
       "    <tr>\n",
       "      <th>9243</th>\n",
       "      <td>IGMS UW Equity</td>\n",
       "      <td>IGMS</td>\n",
       "      <td>UW</td>\n",
       "      <td>IGM Biosciences Inc</td>\n",
       "      <td>0.000229</td>\n",
       "      <td>14.116</td>\n",
       "      <td>14.5</td>\n",
       "      <td>2.821168</td>\n",
       "      <td>2.821137</td>\n",
       "      <td>IGMS</td>\n",
       "      <td>Healthcare</td>\n",
       "      <td>Biotechnology</td>\n",
       "      <td>IGM Biosciences, Inc.</td>\n",
       "    </tr>\n",
       "  </tbody>\n",
       "</table>\n",
       "</div>"
      ],
      "text/plain": [
       "              Ticker MainTicker Bolsa                           Nome  \\\n",
       "2871  TGTX UR Equity       TGTX    UR            TG Therapeutics Inc   \n",
       "4651  RXRX UW Equity       RXRX    UW  Recursion Pharmaceuticals Inc   \n",
       "3006  SITM UQ Equity       SITM    UQ                    SiTime Corp   \n",
       "6039  LMND UN Equity       LMND    UN                   Lemonade Inc   \n",
       "9243  IGMS UW Equity       IGMS    UW            IGM Biosciences Inc   \n",
       "\n",
       "     Ponderação    Ações   Preço Beta Corrigido      Beta YFTicker  \\\n",
       "2871   0.003573  139.734   22.83       3.267937  3.267901     TGTX   \n",
       "4651   0.001555  224.990    6.17       3.239381  3.239343     RXRX   \n",
       "3006   0.003341   17.728  168.25        2.86347  2.863438     SITM   \n",
       "6039   0.000947   52.360   16.15       2.835503  2.835469     LMND   \n",
       "9243   0.000229   14.116    14.5       2.821168  2.821137     IGMS   \n",
       "\n",
       "          SetorEconomico                      Industria  \\\n",
       "2871          Healthcare                  Biotechnology   \n",
       "4651          Healthcare                  Biotechnology   \n",
       "3006          Technology                 Semiconductors   \n",
       "6039  Financial Services  Insurance—Property & Casualty   \n",
       "9243          Healthcare                  Biotechnology   \n",
       "\n",
       "            NomeCompletoParaAuditoria  \n",
       "2871            TG Therapeutics, Inc.  \n",
       "4651  Recursion Pharmaceuticals, Inc.  \n",
       "3006               SiTime Corporation  \n",
       "6039                   Lemonade, Inc.  \n",
       "9243            IGM Biosciences, Inc.  "
      ]
     },
     "execution_count": 15,
     "metadata": {},
     "output_type": "execute_result"
    }
   ],
   "source": [
    "ativos_selecionados = betas[betas['YFTicker'].isin(ativos_selecionados['YFTicker'])].sort_values(by='Beta', ascending=False)\n",
    "ativos_selecionados.head()"
   ]
  },
  {
   "cell_type": "markdown",
   "metadata": {},
   "source": [
    "### 3.1. Separação de ativos por betas"
   ]
  },
  {
   "cell_type": "code",
   "execution_count": 16,
   "metadata": {},
   "outputs": [],
   "source": [
    "beta_alto = ativos_selecionados[ativos_selecionados['Beta']>1].merge(volumes_medios, on='YFTicker', how='left')\n",
    "beta_baixo = ativos_selecionados[(ativos_selecionados['Beta']<1)&(ativos_selecionados['Beta']>0.5)].merge(volumes_medios, on='YFTicker', how='left')"
   ]
  },
  {
   "cell_type": "code",
   "execution_count": 17,
   "metadata": {},
   "outputs": [],
   "source": [
    "ativos_final = pd.DataFrame()\n",
    "\n",
    "for df in [beta_alto, beta_baixo]:\n",
    "    for industria in df['Industria']:\n",
    "        temp = df[(df['Industria']==industria) & (df['YFTicker'].isin(ativos_permitidos[industria]))].head(12)\n",
    "        ativos_final = pd.concat([ativos_final, temp])\n",
    "\n",
    "ativos_final.drop_duplicates(inplace=True)"
   ]
  },
  {
   "cell_type": "code",
   "execution_count": 28,
   "metadata": {},
   "outputs": [
    {
     "data": {
      "text/plain": [
       "Industria\n",
       "Biotechnology                    24\n",
       "Aerospace & Defense              19\n",
       "Semiconductors                   13\n",
       "Insurance—Property & Casualty     7\n",
       "Insurance—Specialty               5\n",
       "Insurance Brokers                 1\n",
       "Name: count, dtype: int64"
      ]
     },
     "execution_count": 28,
     "metadata": {},
     "output_type": "execute_result"
    }
   ],
   "source": [
    "ativos_final.reset_index(drop=True)['Industria'].value_counts()"
   ]
  },
  {
   "cell_type": "markdown",
   "metadata": {},
   "source": [
    "Filtrando dados pelos ativos selecionados"
   ]
  },
  {
   "cell_type": "code",
   "execution_count": 31,
   "metadata": {},
   "outputs": [
    {
     "data": {
      "text/plain": [
       "61"
      ]
     },
     "execution_count": 31,
     "metadata": {},
     "output_type": "execute_result"
    }
   ],
   "source": [
    "DADOS_INPUT = {ativo:df for ativo, df in dados_ohlcv.items() if ativo in (ativos_final['YFTicker'].values)}\n",
    "len(DADOS_INPUT.keys())"
   ]
  },
  {
   "cell_type": "code",
   "execution_count": null,
   "metadata": {},
   "outputs": [],
   "source": [
    "DADOS_INPUT"
   ]
  }
 ],
 "metadata": {
  "kernelspec": {
   "display_name": "Python 3",
   "language": "python",
   "name": "python3"
  },
  "language_info": {
   "codemirror_mode": {
    "name": "ipython",
    "version": 3
   },
   "file_extension": ".py",
   "mimetype": "text/x-python",
   "name": "python",
   "nbconvert_exporter": "python",
   "pygments_lexer": "ipython3",
   "version": "3.10.5"
  }
 },
 "nbformat": 4,
 "nbformat_minor": 2
}
