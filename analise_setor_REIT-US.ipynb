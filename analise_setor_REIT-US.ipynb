{
 "cells": [
  {
   "cell_type": "markdown",
   "metadata": {},
   "source": [
    "---\n",
    "# Análise do Setor REIT - Retail Index \n",
    "---\n",
    "\n",
    "Ao longo do trabalho de análise setorial do grupo, foi identificado um crescimento elevadíssimo no setor de REIT dos Estados Unidos.\n",
    "Este notebook servirá para aprofundar as análises sobre esse setor, para identificar outliers e/ou explicações para esse rendimento anormal."
   ]
  },
  {
   "cell_type": "markdown",
   "metadata": {},
   "source": [
    "## 1. Importação de bibliotecas e configurações"
   ]
  },
  {
   "cell_type": "markdown",
   "metadata": {},
   "source": [
    "### 1.1. Importação de bibliotecas"
   ]
  },
  {
   "cell_type": "code",
   "execution_count": 2,
   "metadata": {},
   "outputs": [],
   "source": [
    "import pandas as pd \n",
    "import yfinance as yf \n",
    "import numpy as np\n"
   ]
  },
  {
   "cell_type": "markdown",
   "metadata": {},
   "source": [
    "### 1.2. Importação de dados dos ativos"
   ]
  },
  {
   "cell_type": "code",
   "execution_count": 9,
   "metadata": {},
   "outputs": [
    {
     "data": {
      "text/html": [
       "<div>\n",
       "<style scoped>\n",
       "    .dataframe tbody tr th:only-of-type {\n",
       "        vertical-align: middle;\n",
       "    }\n",
       "\n",
       "    .dataframe tbody tr th {\n",
       "        vertical-align: top;\n",
       "    }\n",
       "\n",
       "    .dataframe thead th {\n",
       "        text-align: right;\n",
       "    }\n",
       "</style>\n",
       "<table border=\"1\" class=\"dataframe\">\n",
       "  <thead>\n",
       "    <tr style=\"text-align: right;\">\n",
       "      <th></th>\n",
       "      <th>Ticker</th>\n",
       "      <th>Nome</th>\n",
       "      <th>Ponderação</th>\n",
       "      <th>Ações</th>\n",
       "      <th>Preço</th>\n",
       "      <th>MainTicker</th>\n",
       "      <th>YFTicker</th>\n",
       "      <th>SetorEconomico</th>\n",
       "      <th>Industria</th>\n",
       "      <th>NomeCompletoParaAuditoria</th>\n",
       "      <th>Pais</th>\n",
       "      <th>Moeda</th>\n",
       "    </tr>\n",
       "  </thead>\n",
       "  <tbody>\n",
       "    <tr>\n",
       "      <th>2127</th>\n",
       "      <td>REG AT Equity</td>\n",
       "      <td>Regis Healthcare Ltd</td>\n",
       "      <td>0.000594</td>\n",
       "      <td>125.689</td>\n",
       "      <td>6.14</td>\n",
       "      <td>REG</td>\n",
       "      <td>REG</td>\n",
       "      <td>Real Estate</td>\n",
       "      <td>REIT—Retail</td>\n",
       "      <td>Regency Centers Corporation</td>\n",
       "      <td>United States</td>\n",
       "      <td>USD</td>\n",
       "    </tr>\n",
       "    <tr>\n",
       "      <th>2230</th>\n",
       "      <td>BFS UN Equity</td>\n",
       "      <td>Saul Centers Inc</td>\n",
       "      <td>0.000572</td>\n",
       "      <td>12.365</td>\n",
       "      <td>41.06</td>\n",
       "      <td>BFS</td>\n",
       "      <td>BFS</td>\n",
       "      <td>Real Estate</td>\n",
       "      <td>REIT—Retail</td>\n",
       "      <td>Saul Centers, Inc.</td>\n",
       "      <td>United States</td>\n",
       "      <td>USD</td>\n",
       "    </tr>\n",
       "    <tr>\n",
       "      <th>2263</th>\n",
       "      <td>CBL UN Equity</td>\n",
       "      <td>CBL &amp; Associates Properties Inc</td>\n",
       "      <td>0.000565</td>\n",
       "      <td>19.946</td>\n",
       "      <td>25.12</td>\n",
       "      <td>CBL</td>\n",
       "      <td>CBL</td>\n",
       "      <td>Real Estate</td>\n",
       "      <td>REIT—Retail</td>\n",
       "      <td>CBL &amp; Associates Properties, In</td>\n",
       "      <td>United States</td>\n",
       "      <td>USD</td>\n",
       "    </tr>\n",
       "    <tr>\n",
       "      <th>2360</th>\n",
       "      <td>ALX UN Equity</td>\n",
       "      <td>Alexander's Inc</td>\n",
       "      <td>0.000543</td>\n",
       "      <td>2.018</td>\n",
       "      <td>238.7</td>\n",
       "      <td>ALX</td>\n",
       "      <td>ALX</td>\n",
       "      <td>Real Estate</td>\n",
       "      <td>REIT—Retail</td>\n",
       "      <td>Alexander's, Inc.</td>\n",
       "      <td>United States</td>\n",
       "      <td>USD</td>\n",
       "    </tr>\n",
       "    <tr>\n",
       "      <th>3144</th>\n",
       "      <td>ADC DH Equity</td>\n",
       "      <td>E7 Group PJSC</td>\n",
       "      <td>0.000369</td>\n",
       "      <td>1073.315</td>\n",
       "      <td>1.12</td>\n",
       "      <td>ADC</td>\n",
       "      <td>ADC</td>\n",
       "      <td>Real Estate</td>\n",
       "      <td>REIT—Retail</td>\n",
       "      <td>Agree Realty Corporation</td>\n",
       "      <td>United States</td>\n",
       "      <td>USD</td>\n",
       "    </tr>\n",
       "  </tbody>\n",
       "</table>\n",
       "</div>"
      ],
      "text/plain": [
       "             Ticker                             Nome Ponderação     Ações  \\\n",
       "2127  REG AT Equity             Regis Healthcare Ltd   0.000594   125.689   \n",
       "2230  BFS UN Equity                 Saul Centers Inc   0.000572    12.365   \n",
       "2263  CBL UN Equity  CBL & Associates Properties Inc   0.000565    19.946   \n",
       "2360  ALX UN Equity                  Alexander's Inc   0.000543     2.018   \n",
       "3144  ADC DH Equity                    E7 Group PJSC   0.000369  1073.315   \n",
       "\n",
       "      Preço MainTicker YFTicker SetorEconomico    Industria  \\\n",
       "2127   6.14        REG      REG    Real Estate  REIT—Retail   \n",
       "2230  41.06        BFS      BFS    Real Estate  REIT—Retail   \n",
       "2263  25.12        CBL      CBL    Real Estate  REIT—Retail   \n",
       "2360  238.7        ALX      ALX    Real Estate  REIT—Retail   \n",
       "3144   1.12        ADC      ADC    Real Estate  REIT—Retail   \n",
       "\n",
       "            NomeCompletoParaAuditoria           Pais Moeda  \n",
       "2127      Regency Centers Corporation  United States   USD  \n",
       "2230               Saul Centers, Inc.  United States   USD  \n",
       "2263  CBL & Associates Properties, In  United States   USD  \n",
       "2360                Alexander's, Inc.  United States   USD  \n",
       "3144         Agree Realty Corporation  United States   USD  "
      ]
     },
     "execution_count": 9,
     "metadata": {},
     "output_type": "execute_result"
    }
   ],
   "source": [
    "ativos = pd.read_excel(r'WSL as of Sep 25 20241 - Modificado_2.xlsx')\n",
    "ativos = ativos[~ativos['Pais'].isna()] # Filtrando por ativos que possuam informações de Pais\n",
    "ativos = ativos[~ativos['Moeda'].isna()] # Filtrando por ativos que possuam informações de moeda\n",
    "ativos = ativos[(ativos['Pais']=='United States') & (ativos['Industria']=='REIT—Retail')]\n",
    "ativos.head()"
   ]
  },
  {
   "cell_type": "markdown",
   "metadata": {},
   "source": [
    "#### 1.2.1. Extração de ativos da Industria REIT-Retail"
   ]
  },
  {
   "cell_type": "code",
   "execution_count": 10,
   "metadata": {},
   "outputs": [],
   "source": [
    "tickers = ativos['YFTicker'].unique()"
   ]
  },
  {
   "cell_type": "markdown",
   "metadata": {},
   "source": [
    "### 1.3. Importação dos dados OHLCV"
   ]
  },
  {
   "cell_type": "code",
   "execution_count": 12,
   "metadata": {},
   "outputs": [],
   "source": [
    "dados_ohlcv = {}\n",
    "\n",
    "for ticker in tickers:\n",
    "    temp = yf.download(ticker, start='2023-01-01', end='2024-10-01', progress=False)\n",
    "\n",
    "    if not temp.empty:\n",
    "        dados_ohlcv[ticker] = temp\n",
    "    else:\n",
    "        print(f'Não importado o ativo {ticker}')"
   ]
  },
  {
   "cell_type": "markdown",
   "metadata": {},
   "source": [
    "### 1.4. Importação de dados setoriais"
   ]
  },
  {
   "cell_type": "code",
   "execution_count": 13,
   "metadata": {},
   "outputs": [
    {
     "data": {
      "text/html": [
       "<div>\n",
       "<style scoped>\n",
       "    .dataframe tbody tr th:only-of-type {\n",
       "        vertical-align: middle;\n",
       "    }\n",
       "\n",
       "    .dataframe tbody tr th {\n",
       "        vertical-align: top;\n",
       "    }\n",
       "\n",
       "    .dataframe thead th {\n",
       "        text-align: right;\n",
       "    }\n",
       "</style>\n",
       "<table border=\"1\" class=\"dataframe\">\n",
       "  <thead>\n",
       "    <tr style=\"text-align: right;\">\n",
       "      <th></th>\n",
       "      <th>RetornoDiarioSetor</th>\n",
       "    </tr>\n",
       "    <tr>\n",
       "      <th>Data</th>\n",
       "      <th></th>\n",
       "    </tr>\n",
       "  </thead>\n",
       "  <tbody>\n",
       "    <tr>\n",
       "      <th>2002-01-02</th>\n",
       "      <td>0.000000</td>\n",
       "    </tr>\n",
       "    <tr>\n",
       "      <th>2002-01-03</th>\n",
       "      <td>-0.008678</td>\n",
       "    </tr>\n",
       "    <tr>\n",
       "      <th>2002-01-04</th>\n",
       "      <td>-0.007200</td>\n",
       "    </tr>\n",
       "    <tr>\n",
       "      <th>2002-01-07</th>\n",
       "      <td>-0.002002</td>\n",
       "    </tr>\n",
       "    <tr>\n",
       "      <th>2002-01-08</th>\n",
       "      <td>0.006126</td>\n",
       "    </tr>\n",
       "  </tbody>\n",
       "</table>\n",
       "</div>"
      ],
      "text/plain": [
       "            RetornoDiarioSetor\n",
       "Data                          \n",
       "2002-01-02            0.000000\n",
       "2002-01-03           -0.008678\n",
       "2002-01-04           -0.007200\n",
       "2002-01-07           -0.002002\n",
       "2002-01-08            0.006126"
      ]
     },
     "execution_count": 13,
     "metadata": {},
     "output_type": "execute_result"
    }
   ],
   "source": [
    "\n",
    "dados = pd.read_csv(rf'data\\USD_United States_REIT—Retail_setoriado.csv', parse_dates=[0])\n",
    "dados.columns = ['Data', 'RetornoDiarioSetor']\n",
    "dados.set_index(keys='Data', inplace=True, drop=True)\n",
    "\n",
    "dados.head()"
   ]
  },
  {
   "cell_type": "code",
   "execution_count": 14,
   "metadata": {},
   "outputs": [
    {
     "data": {
      "text/plain": [
       "array(['REG', 'BFS', 'CBL', 'ALX', 'ADC', 'SPG', 'O', 'KIM', 'FRT', 'NNN',\n",
       "       'BRX', 'GTY', 'KRG', 'PECO', 'MAC', 'SKT', 'WHLR', 'SITC', 'FCPT',\n",
       "       'UE', 'AKR', 'ROIC', 'IVT', 'ALEX', 'NTST'], dtype=object)"
      ]
     },
     "execution_count": 14,
     "metadata": {},
     "output_type": "execute_result"
    }
   ],
   "source": [
    "tickers"
   ]
  },
  {
   "cell_type": "code",
   "execution_count": null,
   "metadata": {},
   "outputs": [],
   "source": []
  }
 ],
 "metadata": {
  "kernelspec": {
   "display_name": "Python 3",
   "language": "python",
   "name": "python3"
  },
  "language_info": {
   "codemirror_mode": {
    "name": "ipython",
    "version": 3
   },
   "file_extension": ".py",
   "mimetype": "text/x-python",
   "name": "python",
   "nbconvert_exporter": "python",
   "pygments_lexer": "ipython3",
   "version": "3.10.5"
  }
 },
 "nbformat": 4,
 "nbformat_minor": 2
}
